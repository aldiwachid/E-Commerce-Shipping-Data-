{
 "cells": [
  {
   "cell_type": "markdown",
   "id": "6ee7cf4c",
   "metadata": {},
   "source": [
    "# STAGE 2 DATA PRE-PROCESSING"
   ]
  },
  {
   "cell_type": "markdown",
   "id": "d2cea386-4319-4029-bec5-d7de30a69891",
   "metadata": {},
   "source": [
    "## IMPORT LIBRARY AND LOAD DATA"
   ]
  },
  {
   "cell_type": "code",
   "execution_count": 16,
   "id": "b7415914-6b93-4875-a8a9-38352dc7d94c",
   "metadata": {},
   "outputs": [],
   "source": [
    "import numpy as np\n",
    "import pandas as pd\n",
    "import matplotlib.pyplot as plt\n",
    "import seaborn as sns\n",
    "from sklearn.preprocessing import MinMaxScaler, StandardScaler\n",
    "import warnings\n",
    "warnings.filterwarnings('ignore')\n",
    "\n",
    "#Splitting the data into Train and Test\n",
    "from sklearn.model_selection import train_test_split\n",
    "\n",
    "plt.style.use('dark_background')"
   ]
  },
  {
   "cell_type": "code",
   "execution_count": 4,
   "id": "2d73a64e-65ab-4684-b1b7-8e6e466ff129",
   "metadata": {},
   "outputs": [],
   "source": [
    "df = pd.read_csv('E commerce Train.csv')"
   ]
  },
  {
   "cell_type": "code",
   "execution_count": 5,
   "id": "9e2f2ea5",
   "metadata": {},
   "outputs": [
    {
     "data": {
      "text/plain": [
       "Index(['ID', 'Warehouse_block', 'Mode_of_Shipment', 'Customer_care_calls',\n",
       "       'Customer_rating', 'Cost_of_the_Product', 'Prior_purchases',\n",
       "       'Product_importance', 'Gender', 'Discount_offered', 'Weight_in_gms',\n",
       "       'Reached.on.Time_Y.N'],\n",
       "      dtype='object')"
      ]
     },
     "execution_count": 5,
     "metadata": {},
     "output_type": "execute_result"
    }
   ],
   "source": [
    "df.columns"
   ]
  },
  {
   "cell_type": "code",
   "execution_count": 6,
   "id": "2337a7df",
   "metadata": {},
   "outputs": [],
   "source": [
    "tes1 = df.columns"
   ]
  },
  {
   "cell_type": "code",
   "execution_count": 11,
   "id": "2ab238ac",
   "metadata": {},
   "outputs": [],
   "source": [
    "# Split data\n",
    "X = df[['Warehouse_block', 'Mode_of_Shipment', 'Customer_care_calls',\n",
    "       'Customer_rating', 'Cost_of_the_Product', 'Prior_purchases',\n",
    "       'Product_importance', 'Gender', 'Discount_offered', 'Weight_in_gms']]\n",
    "y = df[['Reached.on.Time_Y.N']]\n",
    "\n",
    "Xtrain, Xtest, ytrain, ytest = train_test_split(X, y, test_size=0.3, random_state=17)"
   ]
  },
  {
   "cell_type": "code",
   "execution_count": 8,
   "id": "57712228",
   "metadata": {},
   "outputs": [
    {
     "name": "stdout",
     "output_type": "stream",
     "text": [
      "(10999, 12)\n",
      "(7699, 10)\n",
      "(3300, 10)\n"
     ]
    }
   ],
   "source": [
    "print(df.shape)\n",
    "print(Xtrain.shape)\n",
    "print(Xtest.shape)"
   ]
  },
  {
   "cell_type": "markdown",
   "id": "9a56c99d",
   "metadata": {},
   "source": [
    "## 1. DATA CLEANSING"
   ]
  },
  {
   "cell_type": "markdown",
   "id": "179303ea",
   "metadata": {},
   "source": [
    "### A. Missing Data"
   ]
  },
  {
   "cell_type": "code",
   "execution_count": 9,
   "id": "ae72ff5c",
   "metadata": {},
   "outputs": [
    {
     "name": "stdout",
     "output_type": "stream",
     "text": [
      "<class 'pandas.core.frame.DataFrame'>\n",
      "Int64Index: 7699 entries, 6381 to 10863\n",
      "Data columns (total 10 columns):\n",
      " #   Column               Non-Null Count  Dtype \n",
      "---  ------               --------------  ----- \n",
      " 0   Warehouse_block      7699 non-null   object\n",
      " 1   Mode_of_Shipment     7699 non-null   object\n",
      " 2   Customer_care_calls  7699 non-null   int64 \n",
      " 3   Customer_rating      7699 non-null   int64 \n",
      " 4   Cost_of_the_Product  7699 non-null   int64 \n",
      " 5   Prior_purchases      7699 non-null   int64 \n",
      " 6   Product_importance   7699 non-null   object\n",
      " 7   Gender               7699 non-null   object\n",
      " 8   Discount_offered     7699 non-null   int64 \n",
      " 9   Weight_in_gms        7699 non-null   int64 \n",
      "dtypes: int64(6), object(4)\n",
      "memory usage: 661.6+ KB\n"
     ]
    }
   ],
   "source": [
    "Xtrain.info() #cek dapakah ada yang hilang"
   ]
  },
  {
   "cell_type": "code",
   "execution_count": 10,
   "id": "a5bef0a6",
   "metadata": {},
   "outputs": [
    {
     "data": {
      "text/plain": [
       "Warehouse_block        0\n",
       "Mode_of_Shipment       0\n",
       "Customer_care_calls    0\n",
       "Customer_rating        0\n",
       "Cost_of_the_Product    0\n",
       "Prior_purchases        0\n",
       "Product_importance     0\n",
       "Gender                 0\n",
       "Discount_offered       0\n",
       "Weight_in_gms          0\n",
       "dtype: int64"
      ]
     },
     "execution_count": 10,
     "metadata": {},
     "output_type": "execute_result"
    }
   ],
   "source": [
    "Xtrain.isna().sum() #cek data yang kosong"
   ]
  },
  {
   "cell_type": "markdown",
   "id": "b74a367f-ebba-4462-86a7-bf2ef737bc24",
   "metadata": {},
   "source": [
    "- **Tidak ada data yang null/hilang**, tidak perlu ada proses lanjutan"
   ]
  },
  {
   "cell_type": "markdown",
   "id": "5b5d2879",
   "metadata": {},
   "source": [
    "### B. Duplicated Data"
   ]
  },
  {
   "cell_type": "code",
   "execution_count": 12,
   "id": "aa28b197",
   "metadata": {},
   "outputs": [
    {
     "data": {
      "text/plain": [
       "0"
      ]
     },
     "execution_count": 12,
     "metadata": {},
     "output_type": "execute_result"
    }
   ],
   "source": [
    "Xtrain.duplicated().sum()"
   ]
  },
  {
   "cell_type": "code",
   "execution_count": 13,
   "id": "94f63d73-443e-48a6-b6ec-6594e8ef0e07",
   "metadata": {},
   "outputs": [
    {
     "data": {
      "text/html": [
       "<div>\n",
       "<style scoped>\n",
       "    .dataframe tbody tr th:only-of-type {\n",
       "        vertical-align: middle;\n",
       "    }\n",
       "\n",
       "    .dataframe tbody tr th {\n",
       "        vertical-align: top;\n",
       "    }\n",
       "\n",
       "    .dataframe thead th {\n",
       "        text-align: right;\n",
       "    }\n",
       "</style>\n",
       "<table border=\"1\" class=\"dataframe\">\n",
       "  <thead>\n",
       "    <tr style=\"text-align: right;\">\n",
       "      <th></th>\n",
       "      <th>ID</th>\n",
       "      <th>Warehouse_block</th>\n",
       "      <th>Mode_of_Shipment</th>\n",
       "      <th>Customer_care_calls</th>\n",
       "      <th>Customer_rating</th>\n",
       "      <th>Cost_of_the_Product</th>\n",
       "      <th>Prior_purchases</th>\n",
       "      <th>Product_importance</th>\n",
       "      <th>Gender</th>\n",
       "      <th>Discount_offered</th>\n",
       "      <th>Weight_in_gms</th>\n",
       "      <th>Reached.on.Time_Y.N</th>\n",
       "    </tr>\n",
       "  </thead>\n",
       "  <tbody>\n",
       "    <tr>\n",
       "      <th>5460</th>\n",
       "      <td>5461</td>\n",
       "      <td>D</td>\n",
       "      <td>Road</td>\n",
       "      <td>7</td>\n",
       "      <td>3</td>\n",
       "      <td>281</td>\n",
       "      <td>4</td>\n",
       "      <td>low</td>\n",
       "      <td>F</td>\n",
       "      <td>4</td>\n",
       "      <td>1480</td>\n",
       "      <td>0</td>\n",
       "    </tr>\n",
       "    <tr>\n",
       "      <th>4320</th>\n",
       "      <td>4321</td>\n",
       "      <td>D</td>\n",
       "      <td>Ship</td>\n",
       "      <td>4</td>\n",
       "      <td>3</td>\n",
       "      <td>258</td>\n",
       "      <td>3</td>\n",
       "      <td>high</td>\n",
       "      <td>F</td>\n",
       "      <td>1</td>\n",
       "      <td>4653</td>\n",
       "      <td>0</td>\n",
       "    </tr>\n",
       "    <tr>\n",
       "      <th>4722</th>\n",
       "      <td>4723</td>\n",
       "      <td>D</td>\n",
       "      <td>Ship</td>\n",
       "      <td>3</td>\n",
       "      <td>2</td>\n",
       "      <td>191</td>\n",
       "      <td>2</td>\n",
       "      <td>medium</td>\n",
       "      <td>M</td>\n",
       "      <td>7</td>\n",
       "      <td>5357</td>\n",
       "      <td>0</td>\n",
       "    </tr>\n",
       "    <tr>\n",
       "      <th>10358</th>\n",
       "      <td>10359</td>\n",
       "      <td>A</td>\n",
       "      <td>Ship</td>\n",
       "      <td>4</td>\n",
       "      <td>1</td>\n",
       "      <td>265</td>\n",
       "      <td>3</td>\n",
       "      <td>low</td>\n",
       "      <td>F</td>\n",
       "      <td>4</td>\n",
       "      <td>4249</td>\n",
       "      <td>0</td>\n",
       "    </tr>\n",
       "    <tr>\n",
       "      <th>4798</th>\n",
       "      <td>4799</td>\n",
       "      <td>C</td>\n",
       "      <td>Flight</td>\n",
       "      <td>6</td>\n",
       "      <td>1</td>\n",
       "      <td>265</td>\n",
       "      <td>4</td>\n",
       "      <td>low</td>\n",
       "      <td>F</td>\n",
       "      <td>7</td>\n",
       "      <td>1644</td>\n",
       "      <td>1</td>\n",
       "    </tr>\n",
       "  </tbody>\n",
       "</table>\n",
       "</div>"
      ],
      "text/plain": [
       "          ID Warehouse_block Mode_of_Shipment  Customer_care_calls  \\\n",
       "5460    5461               D             Road                    7   \n",
       "4320    4321               D             Ship                    4   \n",
       "4722    4723               D             Ship                    3   \n",
       "10358  10359               A             Ship                    4   \n",
       "4798    4799               C           Flight                    6   \n",
       "\n",
       "       Customer_rating  Cost_of_the_Product  Prior_purchases  \\\n",
       "5460                 3                  281                4   \n",
       "4320                 3                  258                3   \n",
       "4722                 2                  191                2   \n",
       "10358                1                  265                3   \n",
       "4798                 1                  265                4   \n",
       "\n",
       "      Product_importance Gender  Discount_offered  Weight_in_gms  \\\n",
       "5460                 low      F                 4           1480   \n",
       "4320                high      F                 1           4653   \n",
       "4722              medium      M                 7           5357   \n",
       "10358                low      F                 4           4249   \n",
       "4798                 low      F                 7           1644   \n",
       "\n",
       "       Reached.on.Time_Y.N  \n",
       "5460                     0  \n",
       "4320                     0  \n",
       "4722                     0  \n",
       "10358                    0  \n",
       "4798                     1  "
      ]
     },
     "execution_count": 13,
     "metadata": {},
     "output_type": "execute_result"
    }
   ],
   "source": [
    "df.sample(5)"
   ]
  },
  {
   "cell_type": "markdown",
   "id": "bf652f1a",
   "metadata": {},
   "source": [
    "### C. Handle Outliers"
   ]
  },
  {
   "cell_type": "markdown",
   "id": "e0a51159-d437-4536-ae06-304434d24db4",
   "metadata": {},
   "source": [
    "#### IQR OUTLINERS"
   ]
  },
  {
   "cell_type": "code",
   "execution_count": 18,
   "id": "802be930-2364-4a42-b93e-f967690b7b27",
   "metadata": {},
   "outputs": [
    {
     "name": "stdout",
     "output_type": "stream",
     "text": [
      "Jumlah baris sebelum memfilter outlier: 7699\n",
      "Jumlah baris setelah memfilter outlier: 5557\n"
     ]
    }
   ],
   "source": [
    "print(f'Jumlah baris sebelum memfilter outlier: {len(Xtrain)}')\n",
    "\n",
    "filtered_entries = np.array([True] * len(Xtrain))\n",
    "for col in ['Prior_purchases','Discount_offered']:\n",
    "    Q1 = Xtrain[col].quantile(0.25)\n",
    "    Q3 = Xtrain[col].quantile(0.75)\n",
    "    IQR = Q3 - Q1\n",
    "    low_limit = Q1 - (IQR * 1.5)\n",
    "    high_limit = Q3 + (IQR * 1.5)\n",
    "\n",
    "    filtered_entries = ((Xtrain[col] >= low_limit) & (Xtrain[col] <= high_limit)) & filtered_entries\n",
    "    \n",
    "Xtrainout = Xtrain[filtered_entries]\n",
    "\n",
    "print(f'Jumlah baris setelah memfilter outlier: {len(Xtrainout)}')"
   ]
  },
  {
   "cell_type": "markdown",
   "id": "cce71f46-2fe5-4113-9e28-7b3e62b3e068",
   "metadata": {},
   "source": [
    "### D. Feature transformation"
   ]
  },
  {
   "cell_type": "code",
   "execution_count": 19,
   "id": "2db450fa-f4e2-4737-bb60-fbd491ce9383",
   "metadata": {},
   "outputs": [
    {
     "data": {
      "image/png": "[encoded data removed]",
      "text/plain": [
       "<Figure size 432x288 with 1 Axes>"
      ]
     },
     "metadata": {},
     "output_type": "display_data"
    }
   ],
   "source": [
    "sns.kdeplot(Xtrainout['Discount_offered'])\n",
    "plt.show()"
   ]
  },
  {
   "cell_type": "code",
   "execution_count": 20,
   "id": "d56695ba-b321-4d70-bc54-d30dadf226d8",
   "metadata": {},
   "outputs": [],
   "source": [
    "Xtrainout['log_Discount_offered'] = np.log(Xtrainout['Discount_offered'])"
   ]
  },
  {
   "cell_type": "code",
   "execution_count": 21,
   "id": "e7b030e2",
   "metadata": {},
   "outputs": [
    {
     "data": {
      "text/plain": [
       "(10999, 10)"
      ]
     },
     "execution_count": 21,
     "metadata": {},
     "output_type": "execute_result"
    }
   ],
   "source": [
    "X.shape"
   ]
  },
  {
   "cell_type": "code",
   "execution_count": 22,
   "id": "a87ad187",
   "metadata": {},
   "outputs": [
    {
     "data": {
      "text/plain": [
       "(10999, 1)"
      ]
     },
     "execution_count": 22,
     "metadata": {},
     "output_type": "execute_result"
    }
   ],
   "source": [
    "y.shape"
   ]
  },
  {
   "cell_type": "code",
   "execution_count": 23,
   "id": "0e66d4c7-6ab8-41da-8547-09d82aa8ee43",
   "metadata": {},
   "outputs": [
    {
     "data": {
      "text/plain": [
       "<AxesSubplot:xlabel='log_Discount_offered', ylabel='Density'>"
      ]
     },
     "execution_count": 23,
     "metadata": {},
     "output_type": "execute_result"
    },
    {
     "data": {
      "image/png": "[encoded data removed]",
      "text/plain": [
       "<Figure size 432x288 with 1 Axes>"
      ]
     },
     "metadata": {},
     "output_type": "display_data"
    }
   ],
   "source": [
    "sns.kdeplot(Xtrainout['log_Discount_offered'])"
   ]
  },
  {
   "cell_type": "code",
   "execution_count": 24,
   "id": "cc9e8045",
   "metadata": {},
   "outputs": [],
   "source": [
    "Xtrainout = Xtrainout.drop(columns=['Discount_offered'])"
   ]
  },
  {
   "cell_type": "code",
   "execution_count": 25,
   "id": "cc41784f",
   "metadata": {},
   "outputs": [
    {
     "data": {
      "text/html": [
       "<div>\n",
       "<style scoped>\n",
       "    .dataframe tbody tr th:only-of-type {\n",
       "        vertical-align: middle;\n",
       "    }\n",
       "\n",
       "    .dataframe tbody tr th {\n",
       "        vertical-align: top;\n",
       "    }\n",
       "\n",
       "    .dataframe thead th {\n",
       "        text-align: right;\n",
       "    }\n",
       "</style>\n",
       "<table border=\"1\" class=\"dataframe\">\n",
       "  <thead>\n",
       "    <tr style=\"text-align: right;\">\n",
       "      <th></th>\n",
       "      <th>Warehouse_block</th>\n",
       "      <th>Mode_of_Shipment</th>\n",
       "      <th>Customer_care_calls</th>\n",
       "      <th>Customer_rating</th>\n",
       "      <th>Cost_of_the_Product</th>\n",
       "      <th>Prior_purchases</th>\n",
       "      <th>Product_importance</th>\n",
       "      <th>Gender</th>\n",
       "      <th>Weight_in_gms</th>\n",
       "      <th>log_Discount_offered</th>\n",
       "    </tr>\n",
       "  </thead>\n",
       "  <tbody>\n",
       "    <tr>\n",
       "      <th>6381</th>\n",
       "      <td>B</td>\n",
       "      <td>Ship</td>\n",
       "      <td>4</td>\n",
       "      <td>3</td>\n",
       "      <td>271</td>\n",
       "      <td>2</td>\n",
       "      <td>medium</td>\n",
       "      <td>M</td>\n",
       "      <td>4967</td>\n",
       "      <td>2.197225</td>\n",
       "    </tr>\n",
       "    <tr>\n",
       "      <th>6944</th>\n",
       "      <td>A</td>\n",
       "      <td>Ship</td>\n",
       "      <td>3</td>\n",
       "      <td>5</td>\n",
       "      <td>155</td>\n",
       "      <td>4</td>\n",
       "      <td>low</td>\n",
       "      <td>F</td>\n",
       "      <td>4432</td>\n",
       "      <td>0.000000</td>\n",
       "    </tr>\n",
       "    <tr>\n",
       "      <th>1508</th>\n",
       "      <td>A</td>\n",
       "      <td>Flight</td>\n",
       "      <td>4</td>\n",
       "      <td>5</td>\n",
       "      <td>259</td>\n",
       "      <td>2</td>\n",
       "      <td>medium</td>\n",
       "      <td>M</td>\n",
       "      <td>2381</td>\n",
       "      <td>2.708050</td>\n",
       "    </tr>\n",
       "    <tr>\n",
       "      <th>6166</th>\n",
       "      <td>C</td>\n",
       "      <td>Flight</td>\n",
       "      <td>4</td>\n",
       "      <td>3</td>\n",
       "      <td>250</td>\n",
       "      <td>2</td>\n",
       "      <td>medium</td>\n",
       "      <td>M</td>\n",
       "      <td>4808</td>\n",
       "      <td>1.386294</td>\n",
       "    </tr>\n",
       "    <tr>\n",
       "      <th>10574</th>\n",
       "      <td>A</td>\n",
       "      <td>Ship</td>\n",
       "      <td>3</td>\n",
       "      <td>2</td>\n",
       "      <td>144</td>\n",
       "      <td>4</td>\n",
       "      <td>medium</td>\n",
       "      <td>M</td>\n",
       "      <td>4867</td>\n",
       "      <td>2.079442</td>\n",
       "    </tr>\n",
       "    <tr>\n",
       "      <th>...</th>\n",
       "      <td>...</td>\n",
       "      <td>...</td>\n",
       "      <td>...</td>\n",
       "      <td>...</td>\n",
       "      <td>...</td>\n",
       "      <td>...</td>\n",
       "      <td>...</td>\n",
       "      <td>...</td>\n",
       "      <td>...</td>\n",
       "      <td>...</td>\n",
       "    </tr>\n",
       "    <tr>\n",
       "      <th>8470</th>\n",
       "      <td>C</td>\n",
       "      <td>Road</td>\n",
       "      <td>3</td>\n",
       "      <td>5</td>\n",
       "      <td>135</td>\n",
       "      <td>2</td>\n",
       "      <td>medium</td>\n",
       "      <td>M</td>\n",
       "      <td>5331</td>\n",
       "      <td>1.945910</td>\n",
       "    </tr>\n",
       "    <tr>\n",
       "      <th>6061</th>\n",
       "      <td>F</td>\n",
       "      <td>Ship</td>\n",
       "      <td>3</td>\n",
       "      <td>5</td>\n",
       "      <td>271</td>\n",
       "      <td>2</td>\n",
       "      <td>medium</td>\n",
       "      <td>M</td>\n",
       "      <td>4958</td>\n",
       "      <td>1.945910</td>\n",
       "    </tr>\n",
       "    <tr>\n",
       "      <th>10992</th>\n",
       "      <td>D</td>\n",
       "      <td>Ship</td>\n",
       "      <td>5</td>\n",
       "      <td>1</td>\n",
       "      <td>236</td>\n",
       "      <td>5</td>\n",
       "      <td>medium</td>\n",
       "      <td>M</td>\n",
       "      <td>1906</td>\n",
       "      <td>1.098612</td>\n",
       "    </tr>\n",
       "    <tr>\n",
       "      <th>9529</th>\n",
       "      <td>F</td>\n",
       "      <td>Ship</td>\n",
       "      <td>3</td>\n",
       "      <td>1</td>\n",
       "      <td>266</td>\n",
       "      <td>3</td>\n",
       "      <td>low</td>\n",
       "      <td>M</td>\n",
       "      <td>4010</td>\n",
       "      <td>1.791759</td>\n",
       "    </tr>\n",
       "    <tr>\n",
       "      <th>10863</th>\n",
       "      <td>B</td>\n",
       "      <td>Ship</td>\n",
       "      <td>4</td>\n",
       "      <td>2</td>\n",
       "      <td>261</td>\n",
       "      <td>3</td>\n",
       "      <td>low</td>\n",
       "      <td>M</td>\n",
       "      <td>5345</td>\n",
       "      <td>1.386294</td>\n",
       "    </tr>\n",
       "  </tbody>\n",
       "</table>\n",
       "<p>5557 rows × 10 columns</p>\n",
       "</div>"
      ],
      "text/plain": [
       "      Warehouse_block Mode_of_Shipment  Customer_care_calls  Customer_rating  \\\n",
       "6381                B             Ship                    4                3   \n",
       "6944                A             Ship                    3                5   \n",
       "1508                A           Flight                    4                5   \n",
       "6166                C           Flight                    4                3   \n",
       "10574               A             Ship                    3                2   \n",
       "...               ...              ...                  ...              ...   \n",
       "8470                C             Road                    3                5   \n",
       "6061                F             Ship                    3                5   \n",
       "10992               D             Ship                    5                1   \n",
       "9529                F             Ship                    3                1   \n",
       "10863               B             Ship                    4                2   \n",
       "\n",
       "       Cost_of_the_Product  Prior_purchases Product_importance Gender  \\\n",
       "6381                   271                2             medium      M   \n",
       "6944                   155                4                low      F   \n",
       "1508                   259                2             medium      M   \n",
       "6166                   250                2             medium      M   \n",
       "10574                  144                4             medium      M   \n",
       "...                    ...              ...                ...    ...   \n",
       "8470                   135                2             medium      M   \n",
       "6061                   271                2             medium      M   \n",
       "10992                  236                5             medium      M   \n",
       "9529                   266                3                low      M   \n",
       "10863                  261                3                low      M   \n",
       "\n",
       "       Weight_in_gms  log_Discount_offered  \n",
       "6381            4967              2.197225  \n",
       "6944            4432              0.000000  \n",
       "1508            2381              2.708050  \n",
       "6166            4808              1.386294  \n",
       "10574           4867              2.079442  \n",
       "...              ...                   ...  \n",
       "8470            5331              1.945910  \n",
       "6061            4958              1.945910  \n",
       "10992           1906              1.098612  \n",
       "9529            4010              1.791759  \n",
       "10863           5345              1.386294  \n",
       "\n",
       "[5557 rows x 10 columns]"
      ]
     },
     "execution_count": 25,
     "metadata": {},
     "output_type": "execute_result"
    }
   ],
   "source": [
    "Xtrainout"
   ]
  },
  {
   "cell_type": "code",
   "execution_count": 26,
   "id": "af744eff",
   "metadata": {},
   "outputs": [
    {
     "data": {
      "text/plain": [
       "(5557, 10)"
      ]
     },
     "execution_count": 26,
     "metadata": {},
     "output_type": "execute_result"
    }
   ],
   "source": [
    "Xtrainout.shape"
   ]
  },
  {
   "cell_type": "code",
   "execution_count": 27,
   "id": "268cf8a2-ba3c-489b-9ea9-70237ec033e4",
   "metadata": {},
   "outputs": [
    {
     "data": {
      "text/html": [
       "<div>\n",
       "<style scoped>\n",
       "    .dataframe tbody tr th:only-of-type {\n",
       "        vertical-align: middle;\n",
       "    }\n",
       "\n",
       "    .dataframe tbody tr th {\n",
       "        vertical-align: top;\n",
       "    }\n",
       "\n",
       "    .dataframe thead th {\n",
       "        text-align: right;\n",
       "    }\n",
       "</style>\n",
       "<table border=\"1\" class=\"dataframe\">\n",
       "  <thead>\n",
       "    <tr style=\"text-align: right;\">\n",
       "      <th></th>\n",
       "      <th>Customer_care_calls</th>\n",
       "      <th>Customer_rating</th>\n",
       "      <th>Cost_of_the_Product</th>\n",
       "      <th>Prior_purchases</th>\n",
       "      <th>Weight_in_gms</th>\n",
       "      <th>log_Discount_offered</th>\n",
       "    </tr>\n",
       "  </thead>\n",
       "  <tbody>\n",
       "    <tr>\n",
       "      <th>count</th>\n",
       "      <td>5557.000000</td>\n",
       "      <td>5557.000000</td>\n",
       "      <td>5557.000000</td>\n",
       "      <td>5557.000000</td>\n",
       "      <td>5557.000000</td>\n",
       "      <td>5557.000000</td>\n",
       "    </tr>\n",
       "    <tr>\n",
       "      <th>mean</th>\n",
       "      <td>4.130646</td>\n",
       "      <td>2.997301</td>\n",
       "      <td>213.368904</td>\n",
       "      <td>3.286665</td>\n",
       "      <td>3963.361706</td>\n",
       "      <td>1.562417</td>\n",
       "    </tr>\n",
       "    <tr>\n",
       "      <th>std</th>\n",
       "      <td>1.175337</td>\n",
       "      <td>1.416691</td>\n",
       "      <td>48.060234</td>\n",
       "      <td>0.994798</td>\n",
       "      <td>1620.259808</td>\n",
       "      <td>0.729467</td>\n",
       "    </tr>\n",
       "    <tr>\n",
       "      <th>min</th>\n",
       "      <td>2.000000</td>\n",
       "      <td>1.000000</td>\n",
       "      <td>96.000000</td>\n",
       "      <td>2.000000</td>\n",
       "      <td>1002.000000</td>\n",
       "      <td>0.000000</td>\n",
       "    </tr>\n",
       "    <tr>\n",
       "      <th>25%</th>\n",
       "      <td>3.000000</td>\n",
       "      <td>2.000000</td>\n",
       "      <td>173.000000</td>\n",
       "      <td>3.000000</td>\n",
       "      <td>1965.000000</td>\n",
       "      <td>1.098612</td>\n",
       "    </tr>\n",
       "    <tr>\n",
       "      <th>50%</th>\n",
       "      <td>4.000000</td>\n",
       "      <td>3.000000</td>\n",
       "      <td>219.000000</td>\n",
       "      <td>3.000000</td>\n",
       "      <td>4520.000000</td>\n",
       "      <td>1.791759</td>\n",
       "    </tr>\n",
       "    <tr>\n",
       "      <th>75%</th>\n",
       "      <td>5.000000</td>\n",
       "      <td>4.000000</td>\n",
       "      <td>253.000000</td>\n",
       "      <td>4.000000</td>\n",
       "      <td>5248.000000</td>\n",
       "      <td>2.079442</td>\n",
       "    </tr>\n",
       "    <tr>\n",
       "      <th>max</th>\n",
       "      <td>7.000000</td>\n",
       "      <td>5.000000</td>\n",
       "      <td>310.000000</td>\n",
       "      <td>5.000000</td>\n",
       "      <td>6102.000000</td>\n",
       "      <td>2.944439</td>\n",
       "    </tr>\n",
       "  </tbody>\n",
       "</table>\n",
       "</div>"
      ],
      "text/plain": [
       "       Customer_care_calls  Customer_rating  Cost_of_the_Product  \\\n",
       "count          5557.000000      5557.000000          5557.000000   \n",
       "mean              4.130646         2.997301           213.368904   \n",
       "std               1.175337         1.416691            48.060234   \n",
       "min               2.000000         1.000000            96.000000   \n",
       "25%               3.000000         2.000000           173.000000   \n",
       "50%               4.000000         3.000000           219.000000   \n",
       "75%               5.000000         4.000000           253.000000   \n",
       "max               7.000000         5.000000           310.000000   \n",
       "\n",
       "       Prior_purchases  Weight_in_gms  log_Discount_offered  \n",
       "count      5557.000000    5557.000000           5557.000000  \n",
       "mean          3.286665    3963.361706              1.562417  \n",
       "std           0.994798    1620.259808              0.729467  \n",
       "min           2.000000    1002.000000              0.000000  \n",
       "25%           3.000000    1965.000000              1.098612  \n",
       "50%           3.000000    4520.000000              1.791759  \n",
       "75%           4.000000    5248.000000              2.079442  \n",
       "max           5.000000    6102.000000              2.944439  "
      ]
     },
     "execution_count": 27,
     "metadata": {},
     "output_type": "execute_result"
    }
   ],
   "source": [
    "Xtrainout.describe()"
   ]
  },
  {
   "cell_type": "markdown",
   "id": "72d8c1b4-449d-4ca4-9b87-3648869faa00",
   "metadata": {},
   "source": [
    "### E. Feature Encoding"
   ]
  },
  {
   "cell_type": "markdown",
   "id": "91e03805-c5ea-480f-8f64-55e80b6aeec6",
   "metadata": {},
   "source": [
    "#### Label"
   ]
  },
  {
   "cell_type": "code",
   "execution_count": 28,
   "id": "29e89ab0-90a2-4416-9f5f-fcef6f316f27",
   "metadata": {},
   "outputs": [],
   "source": [
    "map_gender = {'M' : 0, 'F':1}"
   ]
  },
  {
   "cell_type": "code",
   "execution_count": 29,
   "id": "5dd73a03-6847-403d-b5b0-69434609999b",
   "metadata": {},
   "outputs": [],
   "source": [
    "Xtrainout['enc_gender'] = Xtrainout['Gender'].map(map_gender)"
   ]
  },
  {
   "cell_type": "code",
   "execution_count": 30,
   "id": "3cb9e8d9-b791-40d6-a36b-2ff0eca7b81c",
   "metadata": {},
   "outputs": [
    {
     "data": {
      "text/html": [
       "<div>\n",
       "<style scoped>\n",
       "    .dataframe tbody tr th:only-of-type {\n",
       "        vertical-align: middle;\n",
       "    }\n",
       "\n",
       "    .dataframe tbody tr th {\n",
       "        vertical-align: top;\n",
       "    }\n",
       "\n",
       "    .dataframe thead th {\n",
       "        text-align: right;\n",
       "    }\n",
       "</style>\n",
       "<table border=\"1\" class=\"dataframe\">\n",
       "  <thead>\n",
       "    <tr style=\"text-align: right;\">\n",
       "      <th></th>\n",
       "      <th>Warehouse_block</th>\n",
       "      <th>Mode_of_Shipment</th>\n",
       "      <th>Customer_care_calls</th>\n",
       "      <th>Customer_rating</th>\n",
       "      <th>Cost_of_the_Product</th>\n",
       "      <th>Prior_purchases</th>\n",
       "      <th>Product_importance</th>\n",
       "      <th>Gender</th>\n",
       "      <th>Weight_in_gms</th>\n",
       "      <th>log_Discount_offered</th>\n",
       "      <th>enc_gender</th>\n",
       "    </tr>\n",
       "  </thead>\n",
       "  <tbody>\n",
       "    <tr>\n",
       "      <th>4799</th>\n",
       "      <td>F</td>\n",
       "      <td>Flight</td>\n",
       "      <td>7</td>\n",
       "      <td>2</td>\n",
       "      <td>250</td>\n",
       "      <td>5</td>\n",
       "      <td>medium</td>\n",
       "      <td>M</td>\n",
       "      <td>1327</td>\n",
       "      <td>2.197225</td>\n",
       "      <td>0</td>\n",
       "    </tr>\n",
       "    <tr>\n",
       "      <th>2826</th>\n",
       "      <td>D</td>\n",
       "      <td>Ship</td>\n",
       "      <td>2</td>\n",
       "      <td>3</td>\n",
       "      <td>172</td>\n",
       "      <td>3</td>\n",
       "      <td>medium</td>\n",
       "      <td>F</td>\n",
       "      <td>1522</td>\n",
       "      <td>2.397895</td>\n",
       "      <td>1</td>\n",
       "    </tr>\n",
       "    <tr>\n",
       "      <th>6199</th>\n",
       "      <td>F</td>\n",
       "      <td>Ship</td>\n",
       "      <td>5</td>\n",
       "      <td>2</td>\n",
       "      <td>280</td>\n",
       "      <td>4</td>\n",
       "      <td>low</td>\n",
       "      <td>M</td>\n",
       "      <td>4539</td>\n",
       "      <td>2.079442</td>\n",
       "      <td>0</td>\n",
       "    </tr>\n",
       "    <tr>\n",
       "      <th>8274</th>\n",
       "      <td>D</td>\n",
       "      <td>Ship</td>\n",
       "      <td>3</td>\n",
       "      <td>1</td>\n",
       "      <td>138</td>\n",
       "      <td>3</td>\n",
       "      <td>medium</td>\n",
       "      <td>F</td>\n",
       "      <td>4766</td>\n",
       "      <td>0.693147</td>\n",
       "      <td>1</td>\n",
       "    </tr>\n",
       "    <tr>\n",
       "      <th>9286</th>\n",
       "      <td>C</td>\n",
       "      <td>Ship</td>\n",
       "      <td>3</td>\n",
       "      <td>4</td>\n",
       "      <td>180</td>\n",
       "      <td>3</td>\n",
       "      <td>low</td>\n",
       "      <td>M</td>\n",
       "      <td>5659</td>\n",
       "      <td>0.693147</td>\n",
       "      <td>0</td>\n",
       "    </tr>\n",
       "  </tbody>\n",
       "</table>\n",
       "</div>"
      ],
      "text/plain": [
       "     Warehouse_block Mode_of_Shipment  Customer_care_calls  Customer_rating  \\\n",
       "4799               F           Flight                    7                2   \n",
       "2826               D             Ship                    2                3   \n",
       "6199               F             Ship                    5                2   \n",
       "8274               D             Ship                    3                1   \n",
       "9286               C             Ship                    3                4   \n",
       "\n",
       "      Cost_of_the_Product  Prior_purchases Product_importance Gender  \\\n",
       "4799                  250                5             medium      M   \n",
       "2826                  172                3             medium      F   \n",
       "6199                  280                4                low      M   \n",
       "8274                  138                3             medium      F   \n",
       "9286                  180                3                low      M   \n",
       "\n",
       "      Weight_in_gms  log_Discount_offered  enc_gender  \n",
       "4799           1327              2.197225           0  \n",
       "2826           1522              2.397895           1  \n",
       "6199           4539              2.079442           0  \n",
       "8274           4766              0.693147           1  \n",
       "9286           5659              0.693147           0  "
      ]
     },
     "execution_count": 30,
     "metadata": {},
     "output_type": "execute_result"
    }
   ],
   "source": [
    "Xtrainout.sample(5)"
   ]
  },
  {
   "cell_type": "code",
   "execution_count": 31,
   "id": "dc302fa9-991f-4d4e-a935-0a7446b48690",
   "metadata": {},
   "outputs": [],
   "source": [
    "map_Pi = {'low' : 0, 'medium':1, 'high':2}"
   ]
  },
  {
   "cell_type": "code",
   "execution_count": 32,
   "id": "1f1613a4-d7e1-476b-97b6-a8e390cad6b2",
   "metadata": {},
   "outputs": [],
   "source": [
    "Xtrainout['enc_Product_importance'] = Xtrainout['Product_importance'].map(map_Pi)"
   ]
  },
  {
   "cell_type": "code",
   "execution_count": 33,
   "id": "e036519e-4de7-47d4-8382-acb2cfe1d596",
   "metadata": {},
   "outputs": [
    {
     "data": {
      "text/html": [
       "<div>\n",
       "<style scoped>\n",
       "    .dataframe tbody tr th:only-of-type {\n",
       "        vertical-align: middle;\n",
       "    }\n",
       "\n",
       "    .dataframe tbody tr th {\n",
       "        vertical-align: top;\n",
       "    }\n",
       "\n",
       "    .dataframe thead th {\n",
       "        text-align: right;\n",
       "    }\n",
       "</style>\n",
       "<table border=\"1\" class=\"dataframe\">\n",
       "  <thead>\n",
       "    <tr style=\"text-align: right;\">\n",
       "      <th></th>\n",
       "      <th>Warehouse_block</th>\n",
       "      <th>Mode_of_Shipment</th>\n",
       "      <th>Customer_care_calls</th>\n",
       "      <th>Customer_rating</th>\n",
       "      <th>Cost_of_the_Product</th>\n",
       "      <th>Prior_purchases</th>\n",
       "      <th>Product_importance</th>\n",
       "      <th>Gender</th>\n",
       "      <th>Weight_in_gms</th>\n",
       "      <th>log_Discount_offered</th>\n",
       "      <th>enc_gender</th>\n",
       "      <th>enc_Product_importance</th>\n",
       "    </tr>\n",
       "  </thead>\n",
       "  <tbody>\n",
       "    <tr>\n",
       "      <th>8018</th>\n",
       "      <td>A</td>\n",
       "      <td>Ship</td>\n",
       "      <td>4</td>\n",
       "      <td>1</td>\n",
       "      <td>226</td>\n",
       "      <td>5</td>\n",
       "      <td>medium</td>\n",
       "      <td>M</td>\n",
       "      <td>1510</td>\n",
       "      <td>1.791759</td>\n",
       "      <td>0</td>\n",
       "      <td>1</td>\n",
       "    </tr>\n",
       "    <tr>\n",
       "      <th>9956</th>\n",
       "      <td>A</td>\n",
       "      <td>Ship</td>\n",
       "      <td>5</td>\n",
       "      <td>2</td>\n",
       "      <td>269</td>\n",
       "      <td>5</td>\n",
       "      <td>medium</td>\n",
       "      <td>F</td>\n",
       "      <td>1113</td>\n",
       "      <td>2.302585</td>\n",
       "      <td>1</td>\n",
       "      <td>1</td>\n",
       "    </tr>\n",
       "    <tr>\n",
       "      <th>9971</th>\n",
       "      <td>F</td>\n",
       "      <td>Ship</td>\n",
       "      <td>3</td>\n",
       "      <td>3</td>\n",
       "      <td>137</td>\n",
       "      <td>3</td>\n",
       "      <td>low</td>\n",
       "      <td>F</td>\n",
       "      <td>4742</td>\n",
       "      <td>2.079442</td>\n",
       "      <td>1</td>\n",
       "      <td>0</td>\n",
       "    </tr>\n",
       "    <tr>\n",
       "      <th>4994</th>\n",
       "      <td>A</td>\n",
       "      <td>Ship</td>\n",
       "      <td>3</td>\n",
       "      <td>3</td>\n",
       "      <td>269</td>\n",
       "      <td>3</td>\n",
       "      <td>high</td>\n",
       "      <td>F</td>\n",
       "      <td>4260</td>\n",
       "      <td>1.791759</td>\n",
       "      <td>1</td>\n",
       "      <td>2</td>\n",
       "    </tr>\n",
       "    <tr>\n",
       "      <th>9198</th>\n",
       "      <td>D</td>\n",
       "      <td>Ship</td>\n",
       "      <td>4</td>\n",
       "      <td>4</td>\n",
       "      <td>267</td>\n",
       "      <td>4</td>\n",
       "      <td>low</td>\n",
       "      <td>F</td>\n",
       "      <td>5219</td>\n",
       "      <td>2.079442</td>\n",
       "      <td>1</td>\n",
       "      <td>0</td>\n",
       "    </tr>\n",
       "  </tbody>\n",
       "</table>\n",
       "</div>"
      ],
      "text/plain": [
       "     Warehouse_block Mode_of_Shipment  Customer_care_calls  Customer_rating  \\\n",
       "8018               A             Ship                    4                1   \n",
       "9956               A             Ship                    5                2   \n",
       "9971               F             Ship                    3                3   \n",
       "4994               A             Ship                    3                3   \n",
       "9198               D             Ship                    4                4   \n",
       "\n",
       "      Cost_of_the_Product  Prior_purchases Product_importance Gender  \\\n",
       "8018                  226                5             medium      M   \n",
       "9956                  269                5             medium      F   \n",
       "9971                  137                3                low      F   \n",
       "4994                  269                3               high      F   \n",
       "9198                  267                4                low      F   \n",
       "\n",
       "      Weight_in_gms  log_Discount_offered  enc_gender  enc_Product_importance  \n",
       "8018           1510              1.791759           0                       1  \n",
       "9956           1113              2.302585           1                       1  \n",
       "9971           4742              2.079442           1                       0  \n",
       "4994           4260              1.791759           1                       2  \n",
       "9198           5219              2.079442           1                       0  "
      ]
     },
     "execution_count": 33,
     "metadata": {},
     "output_type": "execute_result"
    }
   ],
   "source": [
    "Xtrainout.sample(5)"
   ]
  },
  {
   "cell_type": "markdown",
   "id": "b1ee85a3-b9ec-491e-a332-c64a5cdab4fb",
   "metadata": {},
   "source": [
    "#### One Hot"
   ]
  },
  {
   "cell_type": "code",
   "execution_count": 34,
   "id": "179d0d3d-122c-43f5-9982-cda4b49613ad",
   "metadata": {},
   "outputs": [
    {
     "data": {
      "text/html": [
       "<div>\n",
       "<style scoped>\n",
       "    .dataframe tbody tr th:only-of-type {\n",
       "        vertical-align: middle;\n",
       "    }\n",
       "\n",
       "    .dataframe tbody tr th {\n",
       "        vertical-align: top;\n",
       "    }\n",
       "\n",
       "    .dataframe thead th {\n",
       "        text-align: right;\n",
       "    }\n",
       "</style>\n",
       "<table border=\"1\" class=\"dataframe\">\n",
       "  <thead>\n",
       "    <tr style=\"text-align: right;\">\n",
       "      <th></th>\n",
       "      <th>mode_Flight</th>\n",
       "      <th>mode_Road</th>\n",
       "      <th>mode_Ship</th>\n",
       "    </tr>\n",
       "  </thead>\n",
       "  <tbody>\n",
       "    <tr>\n",
       "      <th>6381</th>\n",
       "      <td>0</td>\n",
       "      <td>0</td>\n",
       "      <td>1</td>\n",
       "    </tr>\n",
       "    <tr>\n",
       "      <th>6944</th>\n",
       "      <td>0</td>\n",
       "      <td>0</td>\n",
       "      <td>1</td>\n",
       "    </tr>\n",
       "    <tr>\n",
       "      <th>1508</th>\n",
       "      <td>1</td>\n",
       "      <td>0</td>\n",
       "      <td>0</td>\n",
       "    </tr>\n",
       "    <tr>\n",
       "      <th>6166</th>\n",
       "      <td>1</td>\n",
       "      <td>0</td>\n",
       "      <td>0</td>\n",
       "    </tr>\n",
       "    <tr>\n",
       "      <th>10574</th>\n",
       "      <td>0</td>\n",
       "      <td>0</td>\n",
       "      <td>1</td>\n",
       "    </tr>\n",
       "    <tr>\n",
       "      <th>...</th>\n",
       "      <td>...</td>\n",
       "      <td>...</td>\n",
       "      <td>...</td>\n",
       "    </tr>\n",
       "    <tr>\n",
       "      <th>8470</th>\n",
       "      <td>0</td>\n",
       "      <td>1</td>\n",
       "      <td>0</td>\n",
       "    </tr>\n",
       "    <tr>\n",
       "      <th>6061</th>\n",
       "      <td>0</td>\n",
       "      <td>0</td>\n",
       "      <td>1</td>\n",
       "    </tr>\n",
       "    <tr>\n",
       "      <th>10992</th>\n",
       "      <td>0</td>\n",
       "      <td>0</td>\n",
       "      <td>1</td>\n",
       "    </tr>\n",
       "    <tr>\n",
       "      <th>9529</th>\n",
       "      <td>0</td>\n",
       "      <td>0</td>\n",
       "      <td>1</td>\n",
       "    </tr>\n",
       "    <tr>\n",
       "      <th>10863</th>\n",
       "      <td>0</td>\n",
       "      <td>0</td>\n",
       "      <td>1</td>\n",
       "    </tr>\n",
       "  </tbody>\n",
       "</table>\n",
       "<p>5557 rows × 3 columns</p>\n",
       "</div>"
      ],
      "text/plain": [
       "       mode_Flight  mode_Road  mode_Ship\n",
       "6381             0          0          1\n",
       "6944             0          0          1\n",
       "1508             1          0          0\n",
       "6166             1          0          0\n",
       "10574            0          0          1\n",
       "...            ...        ...        ...\n",
       "8470             0          1          0\n",
       "6061             0          0          1\n",
       "10992            0          0          1\n",
       "9529             0          0          1\n",
       "10863            0          0          1\n",
       "\n",
       "[5557 rows x 3 columns]"
      ]
     },
     "execution_count": 34,
     "metadata": {},
     "output_type": "execute_result"
    }
   ],
   "source": [
    "ohe = pd.get_dummies(Xtrainout['Mode_of_Shipment'], prefix='mode')\n",
    "ohe"
   ]
  },
  {
   "cell_type": "code",
   "execution_count": 43,
   "id": "7c3205bf-14a3-4c74-8a2d-fcb358f248c9",
   "metadata": {},
   "outputs": [],
   "source": [
    "# pd.get_dummies(df['Warehouse_block'], prefix='Warehouse')"
   ]
  },
  {
   "cell_type": "markdown",
   "id": "7fe1756b-e3e7-4496-ad20-a37e83e783c8",
   "metadata": {},
   "source": [
    "- Fitur warehouse block tidak terlalu berpengaruh terhadap goalsnya sehingga tidak perlu dilakukan `One Hot Encoding`"
   ]
  },
  {
   "cell_type": "code",
   "execution_count": 44,
   "id": "b0ba0d9a",
   "metadata": {},
   "outputs": [],
   "source": [
    "Xtrainfinal = Xtrainout.join(ohe)"
   ]
  },
  {
   "cell_type": "code",
   "execution_count": 45,
   "id": "316a3f8e",
   "metadata": {},
   "outputs": [
    {
     "data": {
      "text/html": [
       "<div>\n",
       "<style scoped>\n",
       "    .dataframe tbody tr th:only-of-type {\n",
       "        vertical-align: middle;\n",
       "    }\n",
       "\n",
       "    .dataframe tbody tr th {\n",
       "        vertical-align: top;\n",
       "    }\n",
       "\n",
       "    .dataframe thead th {\n",
       "        text-align: right;\n",
       "    }\n",
       "</style>\n",
       "<table border=\"1\" class=\"dataframe\">\n",
       "  <thead>\n",
       "    <tr style=\"text-align: right;\">\n",
       "      <th></th>\n",
       "      <th>Warehouse_block</th>\n",
       "      <th>Mode_of_Shipment</th>\n",
       "      <th>Customer_care_calls</th>\n",
       "      <th>Customer_rating</th>\n",
       "      <th>Cost_of_the_Product</th>\n",
       "      <th>Prior_purchases</th>\n",
       "      <th>Product_importance</th>\n",
       "      <th>Gender</th>\n",
       "      <th>Weight_in_gms</th>\n",
       "      <th>log_Discount_offered</th>\n",
       "      <th>enc_gender</th>\n",
       "      <th>enc_Product_importance</th>\n",
       "      <th>mode_Flight</th>\n",
       "      <th>mode_Road</th>\n",
       "      <th>mode_Ship</th>\n",
       "    </tr>\n",
       "  </thead>\n",
       "  <tbody>\n",
       "    <tr>\n",
       "      <th>6381</th>\n",
       "      <td>B</td>\n",
       "      <td>Ship</td>\n",
       "      <td>4</td>\n",
       "      <td>3</td>\n",
       "      <td>271</td>\n",
       "      <td>2</td>\n",
       "      <td>medium</td>\n",
       "      <td>M</td>\n",
       "      <td>4967</td>\n",
       "      <td>2.197225</td>\n",
       "      <td>0</td>\n",
       "      <td>1</td>\n",
       "      <td>0</td>\n",
       "      <td>0</td>\n",
       "      <td>1</td>\n",
       "    </tr>\n",
       "    <tr>\n",
       "      <th>6944</th>\n",
       "      <td>A</td>\n",
       "      <td>Ship</td>\n",
       "      <td>3</td>\n",
       "      <td>5</td>\n",
       "      <td>155</td>\n",
       "      <td>4</td>\n",
       "      <td>low</td>\n",
       "      <td>F</td>\n",
       "      <td>4432</td>\n",
       "      <td>0.000000</td>\n",
       "      <td>1</td>\n",
       "      <td>0</td>\n",
       "      <td>0</td>\n",
       "      <td>0</td>\n",
       "      <td>1</td>\n",
       "    </tr>\n",
       "    <tr>\n",
       "      <th>1508</th>\n",
       "      <td>A</td>\n",
       "      <td>Flight</td>\n",
       "      <td>4</td>\n",
       "      <td>5</td>\n",
       "      <td>259</td>\n",
       "      <td>2</td>\n",
       "      <td>medium</td>\n",
       "      <td>M</td>\n",
       "      <td>2381</td>\n",
       "      <td>2.708050</td>\n",
       "      <td>0</td>\n",
       "      <td>1</td>\n",
       "      <td>1</td>\n",
       "      <td>0</td>\n",
       "      <td>0</td>\n",
       "    </tr>\n",
       "    <tr>\n",
       "      <th>6166</th>\n",
       "      <td>C</td>\n",
       "      <td>Flight</td>\n",
       "      <td>4</td>\n",
       "      <td>3</td>\n",
       "      <td>250</td>\n",
       "      <td>2</td>\n",
       "      <td>medium</td>\n",
       "      <td>M</td>\n",
       "      <td>4808</td>\n",
       "      <td>1.386294</td>\n",
       "      <td>0</td>\n",
       "      <td>1</td>\n",
       "      <td>1</td>\n",
       "      <td>0</td>\n",
       "      <td>0</td>\n",
       "    </tr>\n",
       "    <tr>\n",
       "      <th>10574</th>\n",
       "      <td>A</td>\n",
       "      <td>Ship</td>\n",
       "      <td>3</td>\n",
       "      <td>2</td>\n",
       "      <td>144</td>\n",
       "      <td>4</td>\n",
       "      <td>medium</td>\n",
       "      <td>M</td>\n",
       "      <td>4867</td>\n",
       "      <td>2.079442</td>\n",
       "      <td>0</td>\n",
       "      <td>1</td>\n",
       "      <td>0</td>\n",
       "      <td>0</td>\n",
       "      <td>1</td>\n",
       "    </tr>\n",
       "  </tbody>\n",
       "</table>\n",
       "</div>"
      ],
      "text/plain": [
       "      Warehouse_block Mode_of_Shipment  Customer_care_calls  Customer_rating  \\\n",
       "6381                B             Ship                    4                3   \n",
       "6944                A             Ship                    3                5   \n",
       "1508                A           Flight                    4                5   \n",
       "6166                C           Flight                    4                3   \n",
       "10574               A             Ship                    3                2   \n",
       "\n",
       "       Cost_of_the_Product  Prior_purchases Product_importance Gender  \\\n",
       "6381                   271                2             medium      M   \n",
       "6944                   155                4                low      F   \n",
       "1508                   259                2             medium      M   \n",
       "6166                   250                2             medium      M   \n",
       "10574                  144                4             medium      M   \n",
       "\n",
       "       Weight_in_gms  log_Discount_offered  enc_gender  \\\n",
       "6381            4967              2.197225           0   \n",
       "6944            4432              0.000000           1   \n",
       "1508            2381              2.708050           0   \n",
       "6166            4808              1.386294           0   \n",
       "10574           4867              2.079442           0   \n",
       "\n",
       "       enc_Product_importance  mode_Flight  mode_Road  mode_Ship  \n",
       "6381                        1            0          0          1  \n",
       "6944                        0            0          0          1  \n",
       "1508                        1            1          0          0  \n",
       "6166                        1            1          0          0  \n",
       "10574                       1            0          0          1  "
      ]
     },
     "execution_count": 45,
     "metadata": {},
     "output_type": "execute_result"
    }
   ],
   "source": [
    "Xtrainfinal.head()"
   ]
  },
  {
   "cell_type": "code",
   "execution_count": 46,
   "id": "26d5b2fb",
   "metadata": {},
   "outputs": [
    {
     "data": {
      "text/plain": [
       "(5557, 15)"
      ]
     },
     "execution_count": 46,
     "metadata": {},
     "output_type": "execute_result"
    }
   ],
   "source": [
    "Xtrainfinal.shape"
   ]
  },
  {
   "cell_type": "markdown",
   "id": "c2e23142-7322-46ea-b67d-c6d3e82417fb",
   "metadata": {},
   "source": [
    "#### Class Imbalance"
   ]
  },
  {
   "cell_type": "code",
   "execution_count": 47,
   "id": "28a44709",
   "metadata": {},
   "outputs": [
    {
     "data": {
      "text/plain": [
       "1    4605\n",
       "0    3094\n",
       "Name: Reached.on.Time_Y.N, dtype: int64"
      ]
     },
     "execution_count": 47,
     "metadata": {},
     "output_type": "execute_result"
    }
   ],
   "source": [
    "# ytest['Reached.on.Time_Y.N'].value_counts()\n",
    "ytrain['Reached.on.Time_Y.N'].value_counts() "
   ]
  },
  {
   "cell_type": "markdown",
   "id": "30f373aa",
   "metadata": {},
   "source": [
    "- Berdasarkan derajat ketimpangan data, rasio fitur 'Reached.on.Time' tidak termasuk kedalam kategori **imbalance**"
   ]
  },
  {
   "cell_type": "markdown",
   "id": "3aa197d5",
   "metadata": {},
   "source": [
    "## 2. FEATURE ENGINEERING"
   ]
  },
  {
   "cell_type": "markdown",
   "id": "4d25c7e5",
   "metadata": {},
   "source": [
    "#### A. Feature selection"
   ]
  },
  {
   "cell_type": "code",
   "execution_count": 48,
   "id": "ac62d4b1",
   "metadata": {},
   "outputs": [
    {
     "data": {
      "image/png": "[encoded data removed]",
      "text/plain": [
       "<Figure size 576x360 with 2 Axes>"
      ]
     },
     "metadata": {},
     "output_type": "display_data"
    }
   ],
   "source": [
    "plt.figure(figsize=(8,5))\n",
    "sns.heatmap(Xtrainfinal.corr(), cmap='Blues', annot=True, fmt='.2f')\n",
    "plt.show()"
   ]
  },
  {
   "cell_type": "markdown",
   "id": "12912ca9",
   "metadata": {},
   "source": [
    "- Saat ini semua fitur akan digunakan karena fitur yang ada saat ini tidak banyak\n",
    "- Tidak ada fitur yang redundan, sehingga tidak perlu ada fitur yang di drop"
   ]
  },
  {
   "cell_type": "markdown",
   "id": "1e17d172",
   "metadata": {},
   "source": [
    "#### B. Feature extraction"
   ]
  },
  {
   "cell_type": "code",
   "execution_count": 49,
   "id": "76c2eb13",
   "metadata": {},
   "outputs": [],
   "source": [
    "# Membuat klasifikasi berdasarkan fitur 'Weight_in_gms'\n",
    "Xtrainfinal['weight_category'] = np.where(Xtrainfinal['Weight_in_gms'] <= 2000, 'light', \n",
    "                                          np.where(Xtrainfinal['Weight_in_gms'] <= 5000, 'medium', 'heavy') )"
   ]
  },
  {
   "cell_type": "code",
   "execution_count": 50,
   "id": "88822f7a",
   "metadata": {},
   "outputs": [
    {
     "data": {
      "text/html": [
       "<div>\n",
       "<style scoped>\n",
       "    .dataframe tbody tr th:only-of-type {\n",
       "        vertical-align: middle;\n",
       "    }\n",
       "\n",
       "    .dataframe tbody tr th {\n",
       "        vertical-align: top;\n",
       "    }\n",
       "\n",
       "    .dataframe thead th {\n",
       "        text-align: right;\n",
       "    }\n",
       "</style>\n",
       "<table border=\"1\" class=\"dataframe\">\n",
       "  <thead>\n",
       "    <tr style=\"text-align: right;\">\n",
       "      <th></th>\n",
       "      <th>Warehouse_block</th>\n",
       "      <th>Mode_of_Shipment</th>\n",
       "      <th>Customer_care_calls</th>\n",
       "      <th>Customer_rating</th>\n",
       "      <th>Cost_of_the_Product</th>\n",
       "      <th>Prior_purchases</th>\n",
       "      <th>Product_importance</th>\n",
       "      <th>Gender</th>\n",
       "      <th>Weight_in_gms</th>\n",
       "      <th>log_Discount_offered</th>\n",
       "      <th>enc_gender</th>\n",
       "      <th>enc_Product_importance</th>\n",
       "      <th>mode_Flight</th>\n",
       "      <th>mode_Road</th>\n",
       "      <th>mode_Ship</th>\n",
       "      <th>weight_category</th>\n",
       "    </tr>\n",
       "  </thead>\n",
       "  <tbody>\n",
       "    <tr>\n",
       "      <th>6381</th>\n",
       "      <td>B</td>\n",
       "      <td>Ship</td>\n",
       "      <td>4</td>\n",
       "      <td>3</td>\n",
       "      <td>271</td>\n",
       "      <td>2</td>\n",
       "      <td>medium</td>\n",
       "      <td>M</td>\n",
       "      <td>4967</td>\n",
       "      <td>2.197225</td>\n",
       "      <td>0</td>\n",
       "      <td>1</td>\n",
       "      <td>0</td>\n",
       "      <td>0</td>\n",
       "      <td>1</td>\n",
       "      <td>medium</td>\n",
       "    </tr>\n",
       "    <tr>\n",
       "      <th>6944</th>\n",
       "      <td>A</td>\n",
       "      <td>Ship</td>\n",
       "      <td>3</td>\n",
       "      <td>5</td>\n",
       "      <td>155</td>\n",
       "      <td>4</td>\n",
       "      <td>low</td>\n",
       "      <td>F</td>\n",
       "      <td>4432</td>\n",
       "      <td>0.000000</td>\n",
       "      <td>1</td>\n",
       "      <td>0</td>\n",
       "      <td>0</td>\n",
       "      <td>0</td>\n",
       "      <td>1</td>\n",
       "      <td>medium</td>\n",
       "    </tr>\n",
       "    <tr>\n",
       "      <th>1508</th>\n",
       "      <td>A</td>\n",
       "      <td>Flight</td>\n",
       "      <td>4</td>\n",
       "      <td>5</td>\n",
       "      <td>259</td>\n",
       "      <td>2</td>\n",
       "      <td>medium</td>\n",
       "      <td>M</td>\n",
       "      <td>2381</td>\n",
       "      <td>2.708050</td>\n",
       "      <td>0</td>\n",
       "      <td>1</td>\n",
       "      <td>1</td>\n",
       "      <td>0</td>\n",
       "      <td>0</td>\n",
       "      <td>medium</td>\n",
       "    </tr>\n",
       "    <tr>\n",
       "      <th>6166</th>\n",
       "      <td>C</td>\n",
       "      <td>Flight</td>\n",
       "      <td>4</td>\n",
       "      <td>3</td>\n",
       "      <td>250</td>\n",
       "      <td>2</td>\n",
       "      <td>medium</td>\n",
       "      <td>M</td>\n",
       "      <td>4808</td>\n",
       "      <td>1.386294</td>\n",
       "      <td>0</td>\n",
       "      <td>1</td>\n",
       "      <td>1</td>\n",
       "      <td>0</td>\n",
       "      <td>0</td>\n",
       "      <td>medium</td>\n",
       "    </tr>\n",
       "    <tr>\n",
       "      <th>10574</th>\n",
       "      <td>A</td>\n",
       "      <td>Ship</td>\n",
       "      <td>3</td>\n",
       "      <td>2</td>\n",
       "      <td>144</td>\n",
       "      <td>4</td>\n",
       "      <td>medium</td>\n",
       "      <td>M</td>\n",
       "      <td>4867</td>\n",
       "      <td>2.079442</td>\n",
       "      <td>0</td>\n",
       "      <td>1</td>\n",
       "      <td>0</td>\n",
       "      <td>0</td>\n",
       "      <td>1</td>\n",
       "      <td>medium</td>\n",
       "    </tr>\n",
       "    <tr>\n",
       "      <th>...</th>\n",
       "      <td>...</td>\n",
       "      <td>...</td>\n",
       "      <td>...</td>\n",
       "      <td>...</td>\n",
       "      <td>...</td>\n",
       "      <td>...</td>\n",
       "      <td>...</td>\n",
       "      <td>...</td>\n",
       "      <td>...</td>\n",
       "      <td>...</td>\n",
       "      <td>...</td>\n",
       "      <td>...</td>\n",
       "      <td>...</td>\n",
       "      <td>...</td>\n",
       "      <td>...</td>\n",
       "      <td>...</td>\n",
       "    </tr>\n",
       "    <tr>\n",
       "      <th>8470</th>\n",
       "      <td>C</td>\n",
       "      <td>Road</td>\n",
       "      <td>3</td>\n",
       "      <td>5</td>\n",
       "      <td>135</td>\n",
       "      <td>2</td>\n",
       "      <td>medium</td>\n",
       "      <td>M</td>\n",
       "      <td>5331</td>\n",
       "      <td>1.945910</td>\n",
       "      <td>0</td>\n",
       "      <td>1</td>\n",
       "      <td>0</td>\n",
       "      <td>1</td>\n",
       "      <td>0</td>\n",
       "      <td>heavy</td>\n",
       "    </tr>\n",
       "    <tr>\n",
       "      <th>6061</th>\n",
       "      <td>F</td>\n",
       "      <td>Ship</td>\n",
       "      <td>3</td>\n",
       "      <td>5</td>\n",
       "      <td>271</td>\n",
       "      <td>2</td>\n",
       "      <td>medium</td>\n",
       "      <td>M</td>\n",
       "      <td>4958</td>\n",
       "      <td>1.945910</td>\n",
       "      <td>0</td>\n",
       "      <td>1</td>\n",
       "      <td>0</td>\n",
       "      <td>0</td>\n",
       "      <td>1</td>\n",
       "      <td>medium</td>\n",
       "    </tr>\n",
       "    <tr>\n",
       "      <th>10992</th>\n",
       "      <td>D</td>\n",
       "      <td>Ship</td>\n",
       "      <td>5</td>\n",
       "      <td>1</td>\n",
       "      <td>236</td>\n",
       "      <td>5</td>\n",
       "      <td>medium</td>\n",
       "      <td>M</td>\n",
       "      <td>1906</td>\n",
       "      <td>1.098612</td>\n",
       "      <td>0</td>\n",
       "      <td>1</td>\n",
       "      <td>0</td>\n",
       "      <td>0</td>\n",
       "      <td>1</td>\n",
       "      <td>light</td>\n",
       "    </tr>\n",
       "    <tr>\n",
       "      <th>9529</th>\n",
       "      <td>F</td>\n",
       "      <td>Ship</td>\n",
       "      <td>3</td>\n",
       "      <td>1</td>\n",
       "      <td>266</td>\n",
       "      <td>3</td>\n",
       "      <td>low</td>\n",
       "      <td>M</td>\n",
       "      <td>4010</td>\n",
       "      <td>1.791759</td>\n",
       "      <td>0</td>\n",
       "      <td>0</td>\n",
       "      <td>0</td>\n",
       "      <td>0</td>\n",
       "      <td>1</td>\n",
       "      <td>medium</td>\n",
       "    </tr>\n",
       "    <tr>\n",
       "      <th>10863</th>\n",
       "      <td>B</td>\n",
       "      <td>Ship</td>\n",
       "      <td>4</td>\n",
       "      <td>2</td>\n",
       "      <td>261</td>\n",
       "      <td>3</td>\n",
       "      <td>low</td>\n",
       "      <td>M</td>\n",
       "      <td>5345</td>\n",
       "      <td>1.386294</td>\n",
       "      <td>0</td>\n",
       "      <td>0</td>\n",
       "      <td>0</td>\n",
       "      <td>0</td>\n",
       "      <td>1</td>\n",
       "      <td>heavy</td>\n",
       "    </tr>\n",
       "  </tbody>\n",
       "</table>\n",
       "<p>5557 rows × 16 columns</p>\n",
       "</div>"
      ],
      "text/plain": [
       "      Warehouse_block Mode_of_Shipment  Customer_care_calls  Customer_rating  \\\n",
       "6381                B             Ship                    4                3   \n",
       "6944                A             Ship                    3                5   \n",
       "1508                A           Flight                    4                5   \n",
       "6166                C           Flight                    4                3   \n",
       "10574               A             Ship                    3                2   \n",
       "...               ...              ...                  ...              ...   \n",
       "8470                C             Road                    3                5   \n",
       "6061                F             Ship                    3                5   \n",
       "10992               D             Ship                    5                1   \n",
       "9529                F             Ship                    3                1   \n",
       "10863               B             Ship                    4                2   \n",
       "\n",
       "       Cost_of_the_Product  Prior_purchases Product_importance Gender  \\\n",
       "6381                   271                2             medium      M   \n",
       "6944                   155                4                low      F   \n",
       "1508                   259                2             medium      M   \n",
       "6166                   250                2             medium      M   \n",
       "10574                  144                4             medium      M   \n",
       "...                    ...              ...                ...    ...   \n",
       "8470                   135                2             medium      M   \n",
       "6061                   271                2             medium      M   \n",
       "10992                  236                5             medium      M   \n",
       "9529                   266                3                low      M   \n",
       "10863                  261                3                low      M   \n",
       "\n",
       "       Weight_in_gms  log_Discount_offered  enc_gender  \\\n",
       "6381            4967              2.197225           0   \n",
       "6944            4432              0.000000           1   \n",
       "1508            2381              2.708050           0   \n",
       "6166            4808              1.386294           0   \n",
       "10574           4867              2.079442           0   \n",
       "...              ...                   ...         ...   \n",
       "8470            5331              1.945910           0   \n",
       "6061            4958              1.945910           0   \n",
       "10992           1906              1.098612           0   \n",
       "9529            4010              1.791759           0   \n",
       "10863           5345              1.386294           0   \n",
       "\n",
       "       enc_Product_importance  mode_Flight  mode_Road  mode_Ship  \\\n",
       "6381                        1            0          0          1   \n",
       "6944                        0            0          0          1   \n",
       "1508                        1            1          0          0   \n",
       "6166                        1            1          0          0   \n",
       "10574                       1            0          0          1   \n",
       "...                       ...          ...        ...        ...   \n",
       "8470                        1            0          1          0   \n",
       "6061                        1            0          0          1   \n",
       "10992                       1            0          0          1   \n",
       "9529                        0            0          0          1   \n",
       "10863                       0            0          0          1   \n",
       "\n",
       "      weight_category  \n",
       "6381           medium  \n",
       "6944           medium  \n",
       "1508           medium  \n",
       "6166           medium  \n",
       "10574          medium  \n",
       "...               ...  \n",
       "8470            heavy  \n",
       "6061           medium  \n",
       "10992           light  \n",
       "9529           medium  \n",
       "10863           heavy  \n",
       "\n",
       "[5557 rows x 16 columns]"
      ]
     },
     "execution_count": 50,
     "metadata": {},
     "output_type": "execute_result"
    }
   ],
   "source": [
    "Xtrainfinal"
   ]
  },
  {
   "cell_type": "code",
   "execution_count": 51,
   "id": "f155b659",
   "metadata": {},
   "outputs": [
    {
     "data": {
      "text/plain": [
       "medium    2277\n",
       "heavy     1843\n",
       "light     1437\n",
       "Name: weight_category, dtype: int64"
      ]
     },
     "execution_count": 51,
     "metadata": {},
     "output_type": "execute_result"
    }
   ],
   "source": [
    "Xtrainfinal['weight_category'].value_counts()"
   ]
  },
  {
   "cell_type": "markdown",
   "id": "4e6aa7e2-bd3b-4f0d-862f-4e9417045bde",
   "metadata": {},
   "source": [
    "- Mayoritas dari berat barang masuk kedalam kategori medium"
   ]
  },
  {
   "cell_type": "markdown",
   "id": "23f8c61b",
   "metadata": {},
   "source": [
    "#### C. Feature tambahan"
   ]
  },
  {
   "cell_type": "markdown",
   "id": "19f89cc9",
   "metadata": {},
   "source": [
    "Jadi fitur yang seharusnya ada untuk membantu performansi model yaitu :\n",
    "1. Shipment Date (Tanggal pengiriman barang)\n",
    "2. Revenue (Cost - Discount offer)\n",
    "3. Order Date (Tanggal pemesanan sekaligus pembayaran)\n",
    "4. membership status (status customer berdasarkan banyaknya transaksi)"
   ]
  }
 ],
 "metadata": {
  "kernelspec": {
   "display_name": "Python 3 (ipykernel)",
   "language": "python",
   "name": "python3"
  },
  "language_info": {
   "codemirror_mode": {
    "name": "ipython",
    "version": 3
   },
   "file_extension": ".py",
   "mimetype": "text/x-python",
   "name": "python",
   "nbconvert_exporter": "python",
   "pygments_lexer": "ipython3",
   "version": "3.9.12"
  }
 },
 "nbformat": 4,
 "nbformat_minor": 5
}
