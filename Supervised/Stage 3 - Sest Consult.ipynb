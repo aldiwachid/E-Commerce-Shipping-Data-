{
 "cells": [
  {
   "cell_type": "markdown",
   "id": "49c1544e-755c-4295-91d1-1dd5bcba950f",
   "metadata": {},
   "source": [
    "# STAGE 2 DATA PRE-PROCESSING"
   ]
  },
  {
   "cell_type": "markdown",
   "id": "394c1c5d-920c-4b40-95ac-3446c7734963",
   "metadata": {},
   "source": [
    "## 1. IMPORT LIBRARY AND LOAD DATA"
   ]
  },
  {
   "cell_type": "code",
   "execution_count": 125,
   "id": "fa83de76-f33a-4db4-8784-dac1e192b186",
   "metadata": {},
   "outputs": [],
   "source": [
    "import pandas as pd\n",
    "import matplotlib\n",
    "import matplotlib.pyplot as plt\n",
    "import seaborn as sns\n",
    "import numpy as np\n",
    "from textwrap import wrap\n",
    "# Library for Scalling Data\n",
    "from sklearn.preprocessing import StandardScaler, MinMaxScaler\n",
    "from scipy.stats import boxcox\n",
    "import warnings\n",
    "# Library for Split Data\n",
    "from sklearn.model_selection import train_test_split\n",
    "# Library for Z-Score\n",
    "from scipy import stats\n",
    "warnings.filterwarnings('ignore')\n",
    "# plt.style.use('dark_background')"
   ]
  },
  {
   "cell_type": "code",
   "execution_count": 56,
   "id": "c04a5fd5-a694-47d5-9a98-fb0f5cc1f9dd",
   "metadata": {},
   "outputs": [],
   "source": [
    "df = pd.read_csv('E commerce Train.csv')\n",
    "df = df.drop(columns=['ID'])"
   ]
  },
  {
   "cell_type": "code",
   "execution_count": 3,
   "id": "797b7cfb-9ffd-4339-a3f4-5a85a3a031c9",
   "metadata": {},
   "outputs": [
    {
     "data": {
      "text/html": [
       "<div>\n",
       "<style scoped>\n",
       "    .dataframe tbody tr th:only-of-type {\n",
       "        vertical-align: middle;\n",
       "    }\n",
       "\n",
       "    .dataframe tbody tr th {\n",
       "        vertical-align: top;\n",
       "    }\n",
       "\n",
       "    .dataframe thead th {\n",
       "        text-align: right;\n",
       "    }\n",
       "</style>\n",
       "<table border=\"1\" class=\"dataframe\">\n",
       "  <thead>\n",
       "    <tr style=\"text-align: right;\">\n",
       "      <th></th>\n",
       "      <th>Warehouse_block</th>\n",
       "      <th>Mode_of_Shipment</th>\n",
       "      <th>Customer_care_calls</th>\n",
       "      <th>Customer_rating</th>\n",
       "      <th>Cost_of_the_Product</th>\n",
       "      <th>Prior_purchases</th>\n",
       "      <th>Product_importance</th>\n",
       "      <th>Gender</th>\n",
       "      <th>Discount_offered</th>\n",
       "      <th>Weight_in_gms</th>\n",
       "      <th>Reached.on.Time_Y.N</th>\n",
       "    </tr>\n",
       "  </thead>\n",
       "  <tbody>\n",
       "    <tr>\n",
       "      <th>0</th>\n",
       "      <td>D</td>\n",
       "      <td>Flight</td>\n",
       "      <td>4</td>\n",
       "      <td>2</td>\n",
       "      <td>177</td>\n",
       "      <td>3</td>\n",
       "      <td>low</td>\n",
       "      <td>F</td>\n",
       "      <td>44</td>\n",
       "      <td>1233</td>\n",
       "      <td>1</td>\n",
       "    </tr>\n",
       "    <tr>\n",
       "      <th>1</th>\n",
       "      <td>F</td>\n",
       "      <td>Flight</td>\n",
       "      <td>4</td>\n",
       "      <td>5</td>\n",
       "      <td>216</td>\n",
       "      <td>2</td>\n",
       "      <td>low</td>\n",
       "      <td>M</td>\n",
       "      <td>59</td>\n",
       "      <td>3088</td>\n",
       "      <td>1</td>\n",
       "    </tr>\n",
       "    <tr>\n",
       "      <th>2</th>\n",
       "      <td>A</td>\n",
       "      <td>Flight</td>\n",
       "      <td>2</td>\n",
       "      <td>2</td>\n",
       "      <td>183</td>\n",
       "      <td>4</td>\n",
       "      <td>low</td>\n",
       "      <td>M</td>\n",
       "      <td>48</td>\n",
       "      <td>3374</td>\n",
       "      <td>1</td>\n",
       "    </tr>\n",
       "    <tr>\n",
       "      <th>3</th>\n",
       "      <td>B</td>\n",
       "      <td>Flight</td>\n",
       "      <td>3</td>\n",
       "      <td>3</td>\n",
       "      <td>176</td>\n",
       "      <td>4</td>\n",
       "      <td>medium</td>\n",
       "      <td>M</td>\n",
       "      <td>10</td>\n",
       "      <td>1177</td>\n",
       "      <td>1</td>\n",
       "    </tr>\n",
       "    <tr>\n",
       "      <th>4</th>\n",
       "      <td>C</td>\n",
       "      <td>Flight</td>\n",
       "      <td>2</td>\n",
       "      <td>2</td>\n",
       "      <td>184</td>\n",
       "      <td>3</td>\n",
       "      <td>medium</td>\n",
       "      <td>F</td>\n",
       "      <td>46</td>\n",
       "      <td>2484</td>\n",
       "      <td>1</td>\n",
       "    </tr>\n",
       "  </tbody>\n",
       "</table>\n",
       "</div>"
      ],
      "text/plain": [
       "  Warehouse_block Mode_of_Shipment  Customer_care_calls  Customer_rating  \\\n",
       "0               D           Flight                    4                2   \n",
       "1               F           Flight                    4                5   \n",
       "2               A           Flight                    2                2   \n",
       "3               B           Flight                    3                3   \n",
       "4               C           Flight                    2                2   \n",
       "\n",
       "   Cost_of_the_Product  Prior_purchases Product_importance Gender  \\\n",
       "0                  177                3                low      F   \n",
       "1                  216                2                low      M   \n",
       "2                  183                4                low      M   \n",
       "3                  176                4             medium      M   \n",
       "4                  184                3             medium      F   \n",
       "\n",
       "   Discount_offered  Weight_in_gms  Reached.on.Time_Y.N  \n",
       "0                44           1233                    1  \n",
       "1                59           3088                    1  \n",
       "2                48           3374                    1  \n",
       "3                10           1177                    1  \n",
       "4                46           2484                    1  "
      ]
     },
     "execution_count": 3,
     "metadata": {},
     "output_type": "execute_result"
    }
   ],
   "source": [
    "df.head()"
   ]
  },
  {
   "cell_type": "markdown",
   "id": "727aea9c-32d7-44cf-9efe-9e22752b5a45",
   "metadata": {},
   "source": [
    "## 2. DATA CLEANSING"
   ]
  },
  {
   "cell_type": "markdown",
   "id": "ac35595e-c25e-4004-8926-c530aca50c8f",
   "metadata": {},
   "source": [
    "### A. Handle Missing Values"
   ]
  },
  {
   "cell_type": "code",
   "execution_count": 4,
   "id": "c5dd285d-83ac-484d-b704-9ba15abbe68f",
   "metadata": {},
   "outputs": [
    {
     "name": "stdout",
     "output_type": "stream",
     "text": [
      "<class 'pandas.core.frame.DataFrame'>\n",
      "RangeIndex: 10999 entries, 0 to 10998\n",
      "Data columns (total 11 columns):\n",
      " #   Column               Non-Null Count  Dtype \n",
      "---  ------               --------------  ----- \n",
      " 0   Warehouse_block      10999 non-null  object\n",
      " 1   Mode_of_Shipment     10999 non-null  object\n",
      " 2   Customer_care_calls  10999 non-null  int64 \n",
      " 3   Customer_rating      10999 non-null  int64 \n",
      " 4   Cost_of_the_Product  10999 non-null  int64 \n",
      " 5   Prior_purchases      10999 non-null  int64 \n",
      " 6   Product_importance   10999 non-null  object\n",
      " 7   Gender               10999 non-null  object\n",
      " 8   Discount_offered     10999 non-null  int64 \n",
      " 9   Weight_in_gms        10999 non-null  int64 \n",
      " 10  Reached.on.Time_Y.N  10999 non-null  int64 \n",
      "dtypes: int64(7), object(4)\n",
      "memory usage: 945.4+ KB\n"
     ]
    },
    {
     "data": {
      "text/plain": [
       "Warehouse_block        0\n",
       "Mode_of_Shipment       0\n",
       "Customer_care_calls    0\n",
       "Customer_rating        0\n",
       "Cost_of_the_Product    0\n",
       "Prior_purchases        0\n",
       "Product_importance     0\n",
       "Gender                 0\n",
       "Discount_offered       0\n",
       "Weight_in_gms          0\n",
       "Reached.on.Time_Y.N    0\n",
       "dtype: int64"
      ]
     },
     "execution_count": 4,
     "metadata": {},
     "output_type": "execute_result"
    }
   ],
   "source": [
    "df.info()\n",
    "df.isna().sum()"
   ]
  },
  {
   "cell_type": "markdown",
   "id": "9932a31a-7f25-42e3-96f2-762c85bc0fac",
   "metadata": {},
   "source": [
    "Berdasarkan hasil diatas, **tidak ada datang yang hilang** sehingga tidak perlu ada proses lanjutan"
   ]
  },
  {
   "cell_type": "markdown",
   "id": "2a05aa24-d078-484c-b8d9-87a652733c00",
   "metadata": {},
   "source": [
    "### B. Handle Duplicated Data"
   ]
  },
  {
   "cell_type": "code",
   "execution_count": 5,
   "id": "4b456d66-e22c-41cd-ad8c-91c35473e099",
   "metadata": {},
   "outputs": [
    {
     "data": {
      "text/plain": [
       "0"
      ]
     },
     "execution_count": 5,
     "metadata": {},
     "output_type": "execute_result"
    }
   ],
   "source": [
    "df.duplicated().sum()"
   ]
  },
  {
   "cell_type": "markdown",
   "id": "f369e157-4a46-460c-8b27-bc81b37d623c",
   "metadata": {},
   "source": [
    "**tidak ada data yang duplikat**, sehingga tidak perlu ada proses lanjutan"
   ]
  },
  {
   "cell_type": "markdown",
   "id": "a65f0880-aa41-404c-990e-31c785507ab6",
   "metadata": {},
   "source": [
    "### C. Handle Outliers"
   ]
  },
  {
   "cell_type": "code",
   "execution_count": 123,
   "id": "137e6eef-7c30-420f-ab23-0a44ed510b07",
   "metadata": {},
   "outputs": [
    {
     "data": {
      "image/png": "[encoded data removed]",
      "text/plain": [
       "<Figure size 720x360 with 5 Axes>"
      ]
     },
     "metadata": {},
     "output_type": "display_data"
    }
   ],
   "source": [
    "numericals = ['Customer_care_calls', 'Cost_of_the_Product', 'Prior_purchases', 'Discount_offered', 'Weight_in_gms']\n",
    "categoricals = ['Warehouse_block', 'Mode_of_Shipment', 'Product_importance', 'Customer_rating', 'Gender']\n",
    "\n",
    "feat_num = numericals\n",
    "plt.figure(figsize=(10,5))\n",
    "for i in range(0, len(feat_num)):\n",
    "    plt.subplot(1, len(feat_num), i+1)\n",
    "    sns.boxplot(y=df[feat_num[i]], color='lightskyblue', orient='v')\n",
    "    plt.tight_layout()"
   ]
  },
  {
   "cell_type": "markdown",
   "id": "1a415992-3bc9-4508-97c0-b1654ed1bced",
   "metadata": {},
   "source": [
    "*Outliers* terdapat pada fitur 'Prior_purchases' dan 'Discount_offered'"
   ]
  },
  {
   "cell_type": "markdown",
   "id": "6f5af7a1-7e50-488e-ae5e-a13cf8db9232",
   "metadata": {},
   "source": [
    "#### Z-Scores"
   ]
  },
  {
   "cell_type": "code",
   "execution_count": 7,
   "id": "36d6e70e-804f-4750-b92b-0b3b217661f2",
   "metadata": {},
   "outputs": [
    {
     "name": "stdout",
     "output_type": "stream",
     "text": [
      "Jumlah baris sebelum memfilter outlier: 10999\n",
      "Jumlah baris setelah memfilter outlier: 10000\n"
     ]
    }
   ],
   "source": [
    "print(f'Jumlah baris sebelum memfilter outlier: {len(df)}')\n",
    "\n",
    "filtered_entries = np.array([True] * len(df))\n",
    "for col in ['Prior_purchases','Discount_offered']:\n",
    "    z_scores = np.abs(stats.zscore(df[col]))\n",
    "    filtered_entries = (z_scores < 2)\n",
    "    \n",
    "df_z = df[filtered_entries]\n",
    "\n",
    "print(f'Jumlah baris setelah memfilter outlier: {len(df_z)}')"
   ]
  },
  {
   "cell_type": "code",
   "execution_count": 124,
   "id": "c1efd2d5-956f-4ba4-b9b4-2dcca96a14c5",
   "metadata": {},
   "outputs": [
    {
     "data": {
      "image/png": "[encoded data removed]",
      "text/plain": [
       "<Figure size 720x360 with 5 Axes>"
      ]
     },
     "metadata": {},
     "output_type": "display_data"
    }
   ],
   "source": [
    "plt.figure(figsize=(10,5))\n",
    "for i in range(0, len(feat_num)):\n",
    "    plt.subplot(1, len(feat_num), i+1)\n",
    "    sns.boxplot(y=df_z[feat_num[i]], color='lightskyblue', orient='v')\n",
    "    plt.tight_layout()"
   ]
  },
  {
   "cell_type": "markdown",
   "id": "a326376d-cd09-4a3a-8d9d-919d2c705697",
   "metadata": {},
   "source": [
    "Walaupun masih terdapat *outliers* pada fitur 'Prior_purchase' dan 'Discount_offered', namun karena sudah di filter menggunakan `Z_score` artinya *outliers* tersebut masih dalam batas wajar"
   ]
  },
  {
   "cell_type": "code",
   "execution_count": 9,
   "id": "49d7acbe-2aaa-4299-a67d-11478cf0a8c9",
   "metadata": {},
   "outputs": [
    {
     "data": {
      "text/plain": [
       "(10000, 11)"
      ]
     },
     "execution_count": 9,
     "metadata": {},
     "output_type": "execute_result"
    }
   ],
   "source": [
    "df_z.shape"
   ]
  },
  {
   "cell_type": "code",
   "execution_count": 10,
   "id": "f8b1280a-16ab-4785-a626-b7246d68ad8f",
   "metadata": {},
   "outputs": [
    {
     "data": {
      "text/plain": [
       "(10000, 11)"
      ]
     },
     "execution_count": 10,
     "metadata": {},
     "output_type": "execute_result"
    }
   ],
   "source": [
    "df_z.shape"
   ]
  },
  {
   "cell_type": "markdown",
   "id": "0e38a2d6-8817-4267-b119-651dcafda5c8",
   "metadata": {},
   "source": [
    "### D. Feature Transformation"
   ]
  },
  {
   "cell_type": "markdown",
   "id": "7039fdc5-358a-4ba8-8be8-051caed13230",
   "metadata": {},
   "source": [
    "#### Log Transform"
   ]
  },
  {
   "cell_type": "code",
   "execution_count": 11,
   "id": "790daf86-9bf7-4989-aa30-5c512a8db047",
   "metadata": {},
   "outputs": [
    {
     "data": {
      "image/png": "[encoded data removed]",
      "text/plain": [
       "<Figure size 432x288 with 1 Axes>"
      ]
     },
     "metadata": {},
     "output_type": "display_data"
    }
   ],
   "source": [
    "sns.kdeplot(df_z['Discount_offered'])\n",
    "plt.show()"
   ]
  },
  {
   "cell_type": "code",
   "execution_count": 12,
   "id": "be653954-d2d1-4da5-9e8a-b54e7e7bb519",
   "metadata": {},
   "outputs": [
    {
     "data": {
      "text/plain": [
       "<AxesSubplot:xlabel='Discount_offered', ylabel='Density'>"
      ]
     },
     "execution_count": 12,
     "metadata": {},
     "output_type": "execute_result"
    },
    {
     "data": {
      "image/png": "[encoded data removed]",
      "text/plain": [
       "<Figure size 432x288 with 1 Axes>"
      ]
     },
     "metadata": {},
     "output_type": "display_data"
    }
   ],
   "source": [
    "df_z['Discount_offered']= np.log(df_z['Discount_offered'])\n",
    "sns.kdeplot(df_z['Discount_offered'])"
   ]
  },
  {
   "cell_type": "code",
   "execution_count": 13,
   "id": "605435c4-d0a5-4e98-9f98-be720d921faa",
   "metadata": {},
   "outputs": [
    {
     "data": {
      "text/html": [
       "<div>\n",
       "<style scoped>\n",
       "    .dataframe tbody tr th:only-of-type {\n",
       "        vertical-align: middle;\n",
       "    }\n",
       "\n",
       "    .dataframe tbody tr th {\n",
       "        vertical-align: top;\n",
       "    }\n",
       "\n",
       "    .dataframe thead th {\n",
       "        text-align: right;\n",
       "    }\n",
       "</style>\n",
       "<table border=\"1\" class=\"dataframe\">\n",
       "  <thead>\n",
       "    <tr style=\"text-align: right;\">\n",
       "      <th></th>\n",
       "      <th>Warehouse_block</th>\n",
       "      <th>Mode_of_Shipment</th>\n",
       "      <th>Customer_care_calls</th>\n",
       "      <th>Customer_rating</th>\n",
       "      <th>Cost_of_the_Product</th>\n",
       "      <th>Prior_purchases</th>\n",
       "      <th>Product_importance</th>\n",
       "      <th>Gender</th>\n",
       "      <th>Discount_offered</th>\n",
       "      <th>Weight_in_gms</th>\n",
       "      <th>Reached.on.Time_Y.N</th>\n",
       "    </tr>\n",
       "  </thead>\n",
       "  <tbody>\n",
       "    <tr>\n",
       "      <th>0</th>\n",
       "      <td>D</td>\n",
       "      <td>Flight</td>\n",
       "      <td>4</td>\n",
       "      <td>2</td>\n",
       "      <td>177</td>\n",
       "      <td>3</td>\n",
       "      <td>low</td>\n",
       "      <td>F</td>\n",
       "      <td>3.784190</td>\n",
       "      <td>1233</td>\n",
       "      <td>1</td>\n",
       "    </tr>\n",
       "    <tr>\n",
       "      <th>3</th>\n",
       "      <td>B</td>\n",
       "      <td>Flight</td>\n",
       "      <td>3</td>\n",
       "      <td>3</td>\n",
       "      <td>176</td>\n",
       "      <td>4</td>\n",
       "      <td>medium</td>\n",
       "      <td>M</td>\n",
       "      <td>2.302585</td>\n",
       "      <td>1177</td>\n",
       "      <td>1</td>\n",
       "    </tr>\n",
       "    <tr>\n",
       "      <th>5</th>\n",
       "      <td>F</td>\n",
       "      <td>Flight</td>\n",
       "      <td>3</td>\n",
       "      <td>1</td>\n",
       "      <td>162</td>\n",
       "      <td>3</td>\n",
       "      <td>medium</td>\n",
       "      <td>F</td>\n",
       "      <td>2.484907</td>\n",
       "      <td>1417</td>\n",
       "      <td>1</td>\n",
       "    </tr>\n",
       "    <tr>\n",
       "      <th>6</th>\n",
       "      <td>D</td>\n",
       "      <td>Flight</td>\n",
       "      <td>3</td>\n",
       "      <td>4</td>\n",
       "      <td>250</td>\n",
       "      <td>3</td>\n",
       "      <td>low</td>\n",
       "      <td>F</td>\n",
       "      <td>1.098612</td>\n",
       "      <td>2371</td>\n",
       "      <td>1</td>\n",
       "    </tr>\n",
       "    <tr>\n",
       "      <th>8</th>\n",
       "      <td>A</td>\n",
       "      <td>Flight</td>\n",
       "      <td>3</td>\n",
       "      <td>4</td>\n",
       "      <td>150</td>\n",
       "      <td>3</td>\n",
       "      <td>low</td>\n",
       "      <td>F</td>\n",
       "      <td>2.397895</td>\n",
       "      <td>1861</td>\n",
       "      <td>1</td>\n",
       "    </tr>\n",
       "  </tbody>\n",
       "</table>\n",
       "</div>"
      ],
      "text/plain": [
       "  Warehouse_block Mode_of_Shipment  Customer_care_calls  Customer_rating  \\\n",
       "0               D           Flight                    4                2   \n",
       "3               B           Flight                    3                3   \n",
       "5               F           Flight                    3                1   \n",
       "6               D           Flight                    3                4   \n",
       "8               A           Flight                    3                4   \n",
       "\n",
       "   Cost_of_the_Product  Prior_purchases Product_importance Gender  \\\n",
       "0                  177                3                low      F   \n",
       "3                  176                4             medium      M   \n",
       "5                  162                3             medium      F   \n",
       "6                  250                3                low      F   \n",
       "8                  150                3                low      F   \n",
       "\n",
       "   Discount_offered  Weight_in_gms  Reached.on.Time_Y.N  \n",
       "0          3.784190           1233                    1  \n",
       "3          2.302585           1177                    1  \n",
       "5          2.484907           1417                    1  \n",
       "6          1.098612           2371                    1  \n",
       "8          2.397895           1861                    1  "
      ]
     },
     "execution_count": 13,
     "metadata": {},
     "output_type": "execute_result"
    }
   ],
   "source": [
    "df_z.head()"
   ]
  },
  {
   "cell_type": "markdown",
   "id": "eebc8e52-b486-499c-b0eb-d5954398a961",
   "metadata": {},
   "source": [
    "#### Standardization"
   ]
  },
  {
   "cell_type": "code",
   "execution_count": 14,
   "id": "7209d903-d01e-4fc1-9290-47da9b019f31",
   "metadata": {},
   "outputs": [],
   "source": [
    "for col in feat_num:\n",
    "    df_z[col]= StandardScaler().fit_transform(df_z[col].values.reshape(len(df_z), 1))"
   ]
  },
  {
   "cell_type": "code",
   "execution_count": 15,
   "id": "2f2be2b2-fafa-4929-8b5f-4c21717ac9d2",
   "metadata": {},
   "outputs": [
    {
     "data": {
      "text/html": [
       "<div>\n",
       "<style scoped>\n",
       "    .dataframe tbody tr th:only-of-type {\n",
       "        vertical-align: middle;\n",
       "    }\n",
       "\n",
       "    .dataframe tbody tr th {\n",
       "        vertical-align: top;\n",
       "    }\n",
       "\n",
       "    .dataframe thead th {\n",
       "        text-align: right;\n",
       "    }\n",
       "</style>\n",
       "<table border=\"1\" class=\"dataframe\">\n",
       "  <thead>\n",
       "    <tr style=\"text-align: right;\">\n",
       "      <th></th>\n",
       "      <th>Customer_care_calls</th>\n",
       "      <th>Customer_rating</th>\n",
       "      <th>Cost_of_the_Product</th>\n",
       "      <th>Prior_purchases</th>\n",
       "      <th>Discount_offered</th>\n",
       "      <th>Weight_in_gms</th>\n",
       "      <th>Reached.on.Time_Y.N</th>\n",
       "    </tr>\n",
       "  </thead>\n",
       "  <tbody>\n",
       "    <tr>\n",
       "      <th>count</th>\n",
       "      <td>1.000000e+04</td>\n",
       "      <td>10000.000000</td>\n",
       "      <td>1.000000e+04</td>\n",
       "      <td>1.000000e+04</td>\n",
       "      <td>1.000000e+04</td>\n",
       "      <td>1.000000e+04</td>\n",
       "      <td>10000.000000</td>\n",
       "    </tr>\n",
       "    <tr>\n",
       "      <th>mean</th>\n",
       "      <td>6.135847e-15</td>\n",
       "      <td>2.991100</td>\n",
       "      <td>2.980505e-16</td>\n",
       "      <td>3.576694e-16</td>\n",
       "      <td>5.567221e-16</td>\n",
       "      <td>-7.300383e-16</td>\n",
       "      <td>0.556400</td>\n",
       "    </tr>\n",
       "    <tr>\n",
       "      <th>std</th>\n",
       "      <td>1.000050e+00</td>\n",
       "      <td>1.413584</td>\n",
       "      <td>1.000050e+00</td>\n",
       "      <td>1.000050e+00</td>\n",
       "      <td>1.000050e+00</td>\n",
       "      <td>1.000050e+00</td>\n",
       "      <td>0.496834</td>\n",
       "    </tr>\n",
       "    <tr>\n",
       "      <th>min</th>\n",
       "      <td>-1.818539e+00</td>\n",
       "      <td>1.000000</td>\n",
       "      <td>-2.407225e+00</td>\n",
       "      <td>-1.043269e+00</td>\n",
       "      <td>-1.952479e+00</td>\n",
       "      <td>-1.686532e+00</td>\n",
       "      <td>0.000000</td>\n",
       "    </tr>\n",
       "    <tr>\n",
       "      <th>25%</th>\n",
       "      <td>-9.479249e-01</td>\n",
       "      <td>2.000000</td>\n",
       "      <td>-8.450480e-01</td>\n",
       "      <td>-3.898374e-01</td>\n",
       "      <td>-7.594359e-01</td>\n",
       "      <td>-1.150271e+00</td>\n",
       "      <td>0.000000</td>\n",
       "    </tr>\n",
       "    <tr>\n",
       "      <th>50%</th>\n",
       "      <td>-7.731055e-02</td>\n",
       "      <td>3.000000</td>\n",
       "      <td>1.130870e-01</td>\n",
       "      <td>-3.898374e-01</td>\n",
       "      <td>-6.709511e-03</td>\n",
       "      <td>3.375426e-01</td>\n",
       "      <td>1.000000</td>\n",
       "    </tr>\n",
       "    <tr>\n",
       "      <th>75%</th>\n",
       "      <td>7.933038e-01</td>\n",
       "      <td>4.000000</td>\n",
       "      <td>8.421028e-01</td>\n",
       "      <td>2.635944e-01</td>\n",
       "      <td>5.480239e-01</td>\n",
       "      <td>8.441722e-01</td>\n",
       "      <td>1.000000</td>\n",
       "    </tr>\n",
       "    <tr>\n",
       "      <th>max</th>\n",
       "      <td>2.534533e+00</td>\n",
       "      <td>5.000000</td>\n",
       "      <td>2.050186e+00</td>\n",
       "      <td>4.184185e+00</td>\n",
       "      <td>2.181384e+00</td>\n",
       "      <td>2.495415e+00</td>\n",
       "      <td>1.000000</td>\n",
       "    </tr>\n",
       "  </tbody>\n",
       "</table>\n",
       "</div>"
      ],
      "text/plain": [
       "       Customer_care_calls  Customer_rating  Cost_of_the_Product  \\\n",
       "count         1.000000e+04     10000.000000         1.000000e+04   \n",
       "mean          6.135847e-15         2.991100         2.980505e-16   \n",
       "std           1.000050e+00         1.413584         1.000050e+00   \n",
       "min          -1.818539e+00         1.000000        -2.407225e+00   \n",
       "25%          -9.479249e-01         2.000000        -8.450480e-01   \n",
       "50%          -7.731055e-02         3.000000         1.130870e-01   \n",
       "75%           7.933038e-01         4.000000         8.421028e-01   \n",
       "max           2.534533e+00         5.000000         2.050186e+00   \n",
       "\n",
       "       Prior_purchases  Discount_offered  Weight_in_gms  Reached.on.Time_Y.N  \n",
       "count     1.000000e+04      1.000000e+04   1.000000e+04         10000.000000  \n",
       "mean      3.576694e-16      5.567221e-16  -7.300383e-16             0.556400  \n",
       "std       1.000050e+00      1.000050e+00   1.000050e+00             0.496834  \n",
       "min      -1.043269e+00     -1.952479e+00  -1.686532e+00             0.000000  \n",
       "25%      -3.898374e-01     -7.594359e-01  -1.150271e+00             0.000000  \n",
       "50%      -3.898374e-01     -6.709511e-03   3.375426e-01             1.000000  \n",
       "75%       2.635944e-01      5.480239e-01   8.441722e-01             1.000000  \n",
       "max       4.184185e+00      2.181384e+00   2.495415e+00             1.000000  "
      ]
     },
     "execution_count": 15,
     "metadata": {},
     "output_type": "execute_result"
    }
   ],
   "source": [
    "df_z.describe()"
   ]
  },
  {
   "cell_type": "markdown",
   "id": "af558721-fe25-4364-8ef2-609ee1431fb9",
   "metadata": {},
   "source": [
    "### E. Feature Encoding"
   ]
  },
  {
   "cell_type": "markdown",
   "id": "d23bc7eb-dd44-4f2a-97a6-37d6b929b59c",
   "metadata": {},
   "source": [
    "#### Label"
   ]
  },
  {
   "cell_type": "code",
   "execution_count": 16,
   "id": "1c59f145-1d2a-490e-9bb5-1204b5492ce5",
   "metadata": {},
   "outputs": [],
   "source": [
    "mapping_gender = {'F' : 1,\n",
    "                  'M' : 0}\n",
    "mapping_product = {'low' : 0,\n",
    "                   'medium' : 1,\n",
    "                   'high': 2}\n",
    "\n",
    "df_z['Gender'] = df_z['Gender'].map(mapping_gender)\n",
    "df_z['Product_importance'] = df_z['Product_importance'].map(mapping_product)"
   ]
  },
  {
   "cell_type": "code",
   "execution_count": 17,
   "id": "82e1fcf6-0d89-4c1f-8362-ff4c98df4fae",
   "metadata": {},
   "outputs": [
    {
     "data": {
      "text/html": [
       "<div>\n",
       "<style scoped>\n",
       "    .dataframe tbody tr th:only-of-type {\n",
       "        vertical-align: middle;\n",
       "    }\n",
       "\n",
       "    .dataframe tbody tr th {\n",
       "        vertical-align: top;\n",
       "    }\n",
       "\n",
       "    .dataframe thead th {\n",
       "        text-align: right;\n",
       "    }\n",
       "</style>\n",
       "<table border=\"1\" class=\"dataframe\">\n",
       "  <thead>\n",
       "    <tr style=\"text-align: right;\">\n",
       "      <th></th>\n",
       "      <th>Warehouse_block</th>\n",
       "      <th>Mode_of_Shipment</th>\n",
       "      <th>Customer_care_calls</th>\n",
       "      <th>Customer_rating</th>\n",
       "      <th>Cost_of_the_Product</th>\n",
       "      <th>Prior_purchases</th>\n",
       "      <th>Product_importance</th>\n",
       "      <th>Gender</th>\n",
       "      <th>Discount_offered</th>\n",
       "      <th>Weight_in_gms</th>\n",
       "      <th>Reached.on.Time_Y.N</th>\n",
       "    </tr>\n",
       "  </thead>\n",
       "  <tbody>\n",
       "    <tr>\n",
       "      <th>5428</th>\n",
       "      <td>C</td>\n",
       "      <td>Ship</td>\n",
       "      <td>0.793304</td>\n",
       "      <td>2</td>\n",
       "      <td>-1.886499</td>\n",
       "      <td>0.917026</td>\n",
       "      <td>1</td>\n",
       "      <td>1</td>\n",
       "      <td>0.548024</td>\n",
       "      <td>0.628354</td>\n",
       "      <td>0</td>\n",
       "    </tr>\n",
       "    <tr>\n",
       "      <th>8764</th>\n",
       "      <td>C</td>\n",
       "      <td>Flight</td>\n",
       "      <td>-0.077311</td>\n",
       "      <td>1</td>\n",
       "      <td>-1.157483</td>\n",
       "      <td>-1.043269</td>\n",
       "      <td>1</td>\n",
       "      <td>0</td>\n",
       "      <td>-0.447026</td>\n",
       "      <td>0.894117</td>\n",
       "      <td>0</td>\n",
       "    </tr>\n",
       "    <tr>\n",
       "      <th>3642</th>\n",
       "      <td>D</td>\n",
       "      <td>Ship</td>\n",
       "      <td>-0.077311</td>\n",
       "      <td>4</td>\n",
       "      <td>-0.136861</td>\n",
       "      <td>0.263594</td>\n",
       "      <td>0</td>\n",
       "      <td>1</td>\n",
       "      <td>-0.006710</td>\n",
       "      <td>0.795754</td>\n",
       "      <td>0</td>\n",
       "    </tr>\n",
       "    <tr>\n",
       "      <th>5095</th>\n",
       "      <td>F</td>\n",
       "      <td>Ship</td>\n",
       "      <td>-0.947925</td>\n",
       "      <td>4</td>\n",
       "      <td>0.654642</td>\n",
       "      <td>-1.043269</td>\n",
       "      <td>1</td>\n",
       "      <td>0</td>\n",
       "      <td>-1.952479</td>\n",
       "      <td>1.269851</td>\n",
       "      <td>1</td>\n",
       "    </tr>\n",
       "    <tr>\n",
       "      <th>697</th>\n",
       "      <td>F</td>\n",
       "      <td>Flight</td>\n",
       "      <td>-0.947925</td>\n",
       "      <td>5</td>\n",
       "      <td>-1.261628</td>\n",
       "      <td>-1.043269</td>\n",
       "      <td>0</td>\n",
       "      <td>1</td>\n",
       "      <td>1.058427</td>\n",
       "      <td>-1.429322</td>\n",
       "      <td>1</td>\n",
       "    </tr>\n",
       "  </tbody>\n",
       "</table>\n",
       "</div>"
      ],
      "text/plain": [
       "     Warehouse_block Mode_of_Shipment  Customer_care_calls  Customer_rating  \\\n",
       "5428               C             Ship             0.793304                2   \n",
       "8764               C           Flight            -0.077311                1   \n",
       "3642               D             Ship            -0.077311                4   \n",
       "5095               F             Ship            -0.947925                4   \n",
       "697                F           Flight            -0.947925                5   \n",
       "\n",
       "      Cost_of_the_Product  Prior_purchases  Product_importance  Gender  \\\n",
       "5428            -1.886499         0.917026                   1       1   \n",
       "8764            -1.157483        -1.043269                   1       0   \n",
       "3642            -0.136861         0.263594                   0       1   \n",
       "5095             0.654642        -1.043269                   1       0   \n",
       "697             -1.261628        -1.043269                   0       1   \n",
       "\n",
       "      Discount_offered  Weight_in_gms  Reached.on.Time_Y.N  \n",
       "5428          0.548024       0.628354                    0  \n",
       "8764         -0.447026       0.894117                    0  \n",
       "3642         -0.006710       0.795754                    0  \n",
       "5095         -1.952479       1.269851                    1  \n",
       "697           1.058427      -1.429322                    1  "
      ]
     },
     "execution_count": 17,
     "metadata": {},
     "output_type": "execute_result"
    }
   ],
   "source": [
    "df_z.sample(5)"
   ]
  },
  {
   "cell_type": "markdown",
   "id": "ed0bc0ea-7c3d-4390-9d09-74e4f5a33f27",
   "metadata": {},
   "source": [
    "#### One-Hot"
   ]
  },
  {
   "cell_type": "code",
   "execution_count": 18,
   "id": "67e310bd-b66f-4879-a1c8-54c1ea12e30b",
   "metadata": {},
   "outputs": [],
   "source": [
    "one_hot = pd.get_dummies(df_z['Mode_of_Shipment'], prefix='mode')\n",
    "df_z = df_z.join(one_hot)\n",
    "df_z = df_z.drop(columns='Mode_of_Shipment')"
   ]
  },
  {
   "cell_type": "code",
   "execution_count": 19,
   "id": "729bac35-2acb-4298-9098-0de0d78c6c5d",
   "metadata": {},
   "outputs": [
    {
     "data": {
      "text/html": [
       "<div>\n",
       "<style scoped>\n",
       "    .dataframe tbody tr th:only-of-type {\n",
       "        vertical-align: middle;\n",
       "    }\n",
       "\n",
       "    .dataframe tbody tr th {\n",
       "        vertical-align: top;\n",
       "    }\n",
       "\n",
       "    .dataframe thead th {\n",
       "        text-align: right;\n",
       "    }\n",
       "</style>\n",
       "<table border=\"1\" class=\"dataframe\">\n",
       "  <thead>\n",
       "    <tr style=\"text-align: right;\">\n",
       "      <th></th>\n",
       "      <th>Customer_care_calls</th>\n",
       "      <th>Customer_rating</th>\n",
       "      <th>Cost_of_the_Product</th>\n",
       "      <th>Prior_purchases</th>\n",
       "      <th>Product_importance</th>\n",
       "      <th>Gender</th>\n",
       "      <th>Discount_offered</th>\n",
       "      <th>Weight_in_gms</th>\n",
       "      <th>Reached.on.Time_Y.N</th>\n",
       "      <th>mode_Flight</th>\n",
       "      <th>mode_Road</th>\n",
       "      <th>mode_Ship</th>\n",
       "      <th>warehouse_block_A</th>\n",
       "      <th>warehouse_block_B</th>\n",
       "      <th>warehouse_block_C</th>\n",
       "      <th>warehouse_block_D</th>\n",
       "      <th>warehouse_block_F</th>\n",
       "    </tr>\n",
       "  </thead>\n",
       "  <tbody>\n",
       "    <tr>\n",
       "      <th>2896</th>\n",
       "      <td>-1.818539</td>\n",
       "      <td>2</td>\n",
       "      <td>-0.803390</td>\n",
       "      <td>-1.043269</td>\n",
       "      <td>1</td>\n",
       "      <td>0</td>\n",
       "      <td>1.876989</td>\n",
       "      <td>-1.335847</td>\n",
       "      <td>1</td>\n",
       "      <td>0</td>\n",
       "      <td>0</td>\n",
       "      <td>1</td>\n",
       "      <td>0</td>\n",
       "      <td>0</td>\n",
       "      <td>1</td>\n",
       "      <td>0</td>\n",
       "      <td>0</td>\n",
       "    </tr>\n",
       "    <tr>\n",
       "      <th>4536</th>\n",
       "      <td>-0.077311</td>\n",
       "      <td>2</td>\n",
       "      <td>1.133709</td>\n",
       "      <td>-0.389837</td>\n",
       "      <td>2</td>\n",
       "      <td>0</td>\n",
       "      <td>-1.952479</td>\n",
       "      <td>1.081679</td>\n",
       "      <td>1</td>\n",
       "      <td>1</td>\n",
       "      <td>0</td>\n",
       "      <td>0</td>\n",
       "      <td>0</td>\n",
       "      <td>0</td>\n",
       "      <td>0</td>\n",
       "      <td>1</td>\n",
       "      <td>0</td>\n",
       "    </tr>\n",
       "    <tr>\n",
       "      <th>5194</th>\n",
       "      <td>-0.077311</td>\n",
       "      <td>2</td>\n",
       "      <td>1.050393</td>\n",
       "      <td>-0.389837</td>\n",
       "      <td>0</td>\n",
       "      <td>1</td>\n",
       "      <td>0.433607</td>\n",
       "      <td>0.720608</td>\n",
       "      <td>0</td>\n",
       "      <td>0</td>\n",
       "      <td>1</td>\n",
       "      <td>0</td>\n",
       "      <td>0</td>\n",
       "      <td>0</td>\n",
       "      <td>1</td>\n",
       "      <td>0</td>\n",
       "      <td>0</td>\n",
       "    </tr>\n",
       "    <tr>\n",
       "      <th>1637</th>\n",
       "      <td>0.793304</td>\n",
       "      <td>4</td>\n",
       "      <td>-1.490748</td>\n",
       "      <td>0.263594</td>\n",
       "      <td>2</td>\n",
       "      <td>1</td>\n",
       "      <td>-0.204702</td>\n",
       "      <td>-1.607719</td>\n",
       "      <td>1</td>\n",
       "      <td>0</td>\n",
       "      <td>1</td>\n",
       "      <td>0</td>\n",
       "      <td>0</td>\n",
       "      <td>0</td>\n",
       "      <td>0</td>\n",
       "      <td>0</td>\n",
       "      <td>1</td>\n",
       "    </tr>\n",
       "    <tr>\n",
       "      <th>3212</th>\n",
       "      <td>-0.077311</td>\n",
       "      <td>5</td>\n",
       "      <td>0.654642</td>\n",
       "      <td>-0.389837</td>\n",
       "      <td>0</td>\n",
       "      <td>1</td>\n",
       "      <td>-1.199753</td>\n",
       "      <td>0.701057</td>\n",
       "      <td>0</td>\n",
       "      <td>0</td>\n",
       "      <td>0</td>\n",
       "      <td>1</td>\n",
       "      <td>1</td>\n",
       "      <td>0</td>\n",
       "      <td>0</td>\n",
       "      <td>0</td>\n",
       "      <td>0</td>\n",
       "    </tr>\n",
       "  </tbody>\n",
       "</table>\n",
       "</div>"
      ],
      "text/plain": [
       "      Customer_care_calls  Customer_rating  Cost_of_the_Product  \\\n",
       "2896            -1.818539                2            -0.803390   \n",
       "4536            -0.077311                2             1.133709   \n",
       "5194            -0.077311                2             1.050393   \n",
       "1637             0.793304                4            -1.490748   \n",
       "3212            -0.077311                5             0.654642   \n",
       "\n",
       "      Prior_purchases  Product_importance  Gender  Discount_offered  \\\n",
       "2896        -1.043269                   1       0          1.876989   \n",
       "4536        -0.389837                   2       0         -1.952479   \n",
       "5194        -0.389837                   0       1          0.433607   \n",
       "1637         0.263594                   2       1         -0.204702   \n",
       "3212        -0.389837                   0       1         -1.199753   \n",
       "\n",
       "      Weight_in_gms  Reached.on.Time_Y.N  mode_Flight  mode_Road  mode_Ship  \\\n",
       "2896      -1.335847                    1            0          0          1   \n",
       "4536       1.081679                    1            1          0          0   \n",
       "5194       0.720608                    0            0          1          0   \n",
       "1637      -1.607719                    1            0          1          0   \n",
       "3212       0.701057                    0            0          0          1   \n",
       "\n",
       "      warehouse_block_A  warehouse_block_B  warehouse_block_C  \\\n",
       "2896                  0                  0                  1   \n",
       "4536                  0                  0                  0   \n",
       "5194                  0                  0                  1   \n",
       "1637                  0                  0                  0   \n",
       "3212                  1                  0                  0   \n",
       "\n",
       "      warehouse_block_D  warehouse_block_F  \n",
       "2896                  0                  0  \n",
       "4536                  1                  0  \n",
       "5194                  0                  0  \n",
       "1637                  0                  1  \n",
       "3212                  0                  0  "
      ]
     },
     "execution_count": 19,
     "metadata": {},
     "output_type": "execute_result"
    }
   ],
   "source": [
    "one_hot2 = pd.get_dummies(df_z['Warehouse_block'], prefix='warehouse_block')\n",
    "df_z = df_z.join(one_hot2)\n",
    "df_z = df_z.drop(columns='Warehouse_block')\n",
    "df_z.sample(5)"
   ]
  },
  {
   "cell_type": "markdown",
   "id": "de6eb590-1cd5-4af3-8483-6b7ac3404a18",
   "metadata": {
    "tags": []
   },
   "source": [
    "#### Class Imbalance"
   ]
  },
  {
   "cell_type": "code",
   "execution_count": 20,
   "id": "1bc1db8e-0ea6-4f5a-955c-0a94df3fdc54",
   "metadata": {},
   "outputs": [
    {
     "data": {
      "text/plain": [
       "1    5564\n",
       "0    4436\n",
       "Name: Reached.on.Time_Y.N, dtype: int64"
      ]
     },
     "execution_count": 20,
     "metadata": {},
     "output_type": "execute_result"
    }
   ],
   "source": [
    "df_z['Reached.on.Time_Y.N'].value_counts() "
   ]
  },
  {
   "cell_type": "markdown",
   "id": "65fc23d0-79fb-4bc4-8406-2aba677ae330",
   "metadata": {},
   "source": [
    "Berdasarkan derajat ketimpangan data, rasio fitur 'Reached.on.Time' tidak termasuk kedalam kategori **imbalance**"
   ]
  },
  {
   "cell_type": "markdown",
   "id": "bdd1fc21-6de5-42b6-9098-3dad9efb0eda",
   "metadata": {},
   "source": [
    "## 2. FEATURE ENGINEERING"
   ]
  },
  {
   "cell_type": "markdown",
   "id": "3c632a51-4bd2-44d8-bc82-c5efef4a194d",
   "metadata": {
    "tags": []
   },
   "source": [
    "#### A. Feature selection"
   ]
  },
  {
   "cell_type": "code",
   "execution_count": 21,
   "id": "ea3a63d9-1989-4bc1-9df6-5c36252bb939",
   "metadata": {},
   "outputs": [
    {
     "data": {
      "image/png": "[encoded data removed]",
      "text/plain": [
       "<Figure size 576x360 with 2 Axes>"
      ]
     },
     "metadata": {},
     "output_type": "display_data"
    }
   ],
   "source": [
    "plt.figure(figsize=(8,5))\n",
    "sns.heatmap(df_z.corr(), cmap='Blues', annot=True, fmt='.2f')\n",
    "plt.show()"
   ]
  },
  {
   "cell_type": "markdown",
   "id": "056b2780-dfb8-4476-b3ab-9aa8b63d3f28",
   "metadata": {},
   "source": [
    "- Saat ini semua fitur akan digunakan karena fitur yang ada saat ini tidak banyak\n",
    "- Tidak ada fitur yang redundan, sehingga tidak perlu ada fitur yang di drop\n",
    "- Fitur warehouse menjadi terlalu banyak setelah dilakukan `one hot encoding` dan tidak memiliki korelasi yang baik dengan target, sehingga fitur warehouse tidak akan digunakan"
   ]
  },
  {
   "cell_type": "markdown",
   "id": "f87d1fe3-1eab-4a64-ae92-de95bf4ecf49",
   "metadata": {},
   "source": [
    "# STAGE 3 ML MODELING AND EVALUATION"
   ]
  },
  {
   "cell_type": "markdown",
   "id": "72ad959f-7432-4426-b6ec-a5cb4e9ba47d",
   "metadata": {},
   "source": [
    "## 1. MODELING"
   ]
  },
  {
   "cell_type": "markdown",
   "id": "9c37cf3f-c162-4f6f-a7b3-a6f28d69e682",
   "metadata": {},
   "source": [
    "### A. Data Splitting"
   ]
  },
  {
   "cell_type": "code",
   "execution_count": 22,
   "id": "39249ff4-6e90-451c-9c5c-5345e0688b98",
   "metadata": {},
   "outputs": [],
   "source": [
    "from sklearn.model_selection import train_test_split\n",
    "X = df_z.drop(columns=['Reached.on.Time_Y.N', 'warehouse_block_A', 'warehouse_block_B', 'warehouse_block_C', 'warehouse_block_D', 'warehouse_block_F'])\n",
    "y = df_z['Reached.on.Time_Y.N']\n",
    "\n",
    "X_train, X_test, y_train, y_test = train_test_split(X, y, test_size=0.3, random_state=42)"
   ]
  },
  {
   "cell_type": "code",
   "execution_count": 23,
   "id": "0f17fdc2",
   "metadata": {},
   "outputs": [
    {
     "data": {
      "text/plain": [
       "Index(['Customer_care_calls', 'Customer_rating', 'Cost_of_the_Product',\n",
       "       'Prior_purchases', 'Product_importance', 'Gender', 'Discount_offered',\n",
       "       'Weight_in_gms', 'mode_Flight', 'mode_Road', 'mode_Ship'],\n",
       "      dtype='object')"
      ]
     },
     "execution_count": 23,
     "metadata": {},
     "output_type": "execute_result"
    }
   ],
   "source": [
    "X.columns"
   ]
  },
  {
   "cell_type": "code",
   "execution_count": 10,
   "id": "c0ade0ff-f0d5-45e9-a07a-2ba142ef1922",
   "metadata": {},
   "outputs": [
    {
     "ename": "NameError",
     "evalue": "name 'X_train' is not defined",
     "output_type": "error",
     "traceback": [
      "\u001b[1;31m---------------------------------------------------------------------------\u001b[0m",
      "\u001b[1;31mNameError\u001b[0m                                 Traceback (most recent call last)",
      "Input \u001b[1;32mIn [10]\u001b[0m, in \u001b[0;36m<cell line: 1>\u001b[1;34m()\u001b[0m\n\u001b[1;32m----> 1\u001b[0m \u001b[38;5;28mprint\u001b[39m(\u001b[43mX_train\u001b[49m\u001b[38;5;241m.\u001b[39mshape)\n\u001b[0;32m      2\u001b[0m \u001b[38;5;28mprint\u001b[39m(X_test\u001b[38;5;241m.\u001b[39mshape)\n",
      "\u001b[1;31mNameError\u001b[0m: name 'X_train' is not defined"
     ]
    }
   ],
   "source": [
    "print(X_train.shape)\n",
    "print(X_test.shape)"
   ]
  },
  {
   "cell_type": "markdown",
   "id": "2743db81-3a49-4784-8b49-73f263a5dce6",
   "metadata": {},
   "source": [
    "### B. Modeling"
   ]
  },
  {
   "cell_type": "code",
   "execution_count": 24,
   "id": "f29654f2-d912-4bff-8829-d125e7691f15",
   "metadata": {},
   "outputs": [],
   "source": [
    "# Import Library\n",
    "\n",
    "# Evaluation metrics\n",
    "from sklearn.metrics import accuracy_score, precision_score, recall_score, f1_score\n",
    "from sklearn.metrics import roc_auc_score, confusion_matrix, classification_report\n",
    "from sklearn.metrics import plot_confusion_matrix\n",
    "from sklearn.model_selection import cross_validate\n",
    "\n",
    "# Algorithm\n",
    "from sklearn.linear_model import LogisticRegression\n",
    "from sklearn.tree import DecisionTreeClassifier\n",
    "from xgboost import XGBClassifier\n",
    "from sklearn.neighbors import KNeighborsClassifier\n",
    "from sklearn.ensemble import AdaBoostClassifier\n",
    "from sklearn.ensemble import RandomForestClassifier\n",
    "from sklearn.naive_bayes import GaussianNB"
   ]
  },
  {
   "cell_type": "code",
   "execution_count": 25,
   "id": "684bc7dd-b8f1-4e74-b2f6-c1ae90b04da8",
   "metadata": {},
   "outputs": [],
   "source": [
    "# Create function to fit model & model evaluation\n",
    "def fit_evaluation(Model, X_train, y_train, X_test, y_test):\n",
    "    model = Model # initiate model\n",
    "    model.fit(X_train, y_train) # fit the model\n",
    "    y_pred = model.predict(X_test)\n",
    "    y_pred_train = model.predict(X_train)\n",
    "    y_pred_proba = model.predict_proba(X_test)\n",
    "    y_pred_proba_train = model.predict_proba(X_train)\n",
    "    train_score = model.score(X_train, y_train) \n",
    "    test_score = model.score(X_test, y_test)\n",
    "    score = cross_validate(model, X, y, cv=5, scoring='roc_auc', return_train_score=True) # Cross Validate\n",
    "    return round(test_score,2), round(precision_score(y_test, y_pred),2), \\\n",
    "           round(precision_score(y_train, y_pred_train),2),round(recall_score(y_test, y_pred),2), \\\n",
    "           round(f1_score(y_test, y_pred),2), round(roc_auc_score(y_test, y_pred_proba[:, 1]),2), \\\n",
    "           round(roc_auc_score(y_train, y_pred_proba_train[:, 1]),2), round((score['test_score'].mean()),2), \\\n",
    "           round((score['train_score'].mean()),2)"
   ]
  },
  {
   "cell_type": "code",
   "execution_count": 26,
   "id": "a8f926a3-66b7-482c-83de-d5382ab3387b",
   "metadata": {},
   "outputs": [],
   "source": [
    "# Inititate algorithm\n",
    "lr = LogisticRegression(random_state=42)\n",
    "dt = DecisionTreeClassifier(random_state=42)\n",
    "xgb = XGBClassifier(random_state=42, eval_metric = 'logloss')\n",
    "knn = KNeighborsClassifier(n_neighbors=5)\n",
    "ab = AdaBoostClassifier(random_state=42)\n",
    "rf = RandomForestClassifier(random_state=42)\n",
    "clf = GaussianNB()\n",
    "\n",
    "\n",
    "# Create function to make the result as dataframe \n",
    "def model_comparison_default(X,y):  \n",
    "    \n",
    "    # Logistic Regression\n",
    "    lr_test_score, lrte_pr, lrtr_pr, lr_re, lr_f1, lrte_roc_auc, lrtr_roc_auc, lrte_roc_auc_cv, lrtr_roc_auc_cv = fit_evaluation(\n",
    "        lr, X_train, y_train, X_test, y_test)\n",
    "    # Decision Tree\n",
    "    dt_test_score, dtte_pr, dttr_pr, dt_re, dt_f1, dtte_roc_auc, dttr_roc_auc, dtte_roc_auc_cv, dttr_roc_auc_cv = fit_evaluation(\n",
    "        dt, X_train, y_train, X_test, y_test)\n",
    "    # XGBoost\n",
    "    xgb_test_score, xgbte_pr, xgbtr_pr, xgb_re, xgb_f1, xgbte_roc_auc, xgbtr_roc_auc, xgbte_roc_auc_cv, xgbtr_roc_auc_cv = fit_evaluation(\n",
    "        xgb, X_train, y_train, X_test, y_test)\n",
    "    # KNN\n",
    "    knn_test_score, knnte_pr, knntr_pr, knn_re, knn_f1, knnte_roc_auc, knntr_roc_auc, knnte_roc_auc_cv, knntr_roc_auc_cv = fit_evaluation(\n",
    "        knn, X_train, y_train, X_test, y_test)\n",
    "    # AdaBoost\n",
    "    ab_test_score, abte_pr, abtr_pr, ab_re, ab_f1, abte_roc_auc, abtr_roc_auc, abte_roc_auc_cv, abtr_roc_auc_cv = fit_evaluation(\n",
    "        ab, X_train, y_train, X_test, y_test)\n",
    "    # Random Forest\n",
    "    rf_test_score, rfte_pr, rftr_pr, rf_re, rf_f1, rfte_roc_auc, rftr_roc_auc, rfte_roc_auc_cv, rftr_roc_auc_cv = fit_evaluation(\n",
    "        rf, X_train, y_train, X_test, y_test)\n",
    "    # Naive Bayes\n",
    "    clf_test_score, clfte_pr, clftr_pr, clf_re, clf_f1, clfte_roc_auc, clftr_roc_auc, clfte_roc_auc_cv, clftr_roc_auc_cv = fit_evaluation(\n",
    "        clf, X_train, y_train, X_test, y_test)\n",
    "    \n",
    "    \n",
    "    \n",
    "    models = ['Logistic Regression','Decision Tree','XGBoost','KNN','AdaBoost',\n",
    "              'Random Forest','Naive Bayes']\n",
    "    test_score = [lr_test_score, dt_test_score, xgb_test_score,\n",
    "                  knn_test_score, ab_test_score, rf_test_score, clf_test_score]\n",
    "    precision_test = [lrte_pr, dtte_pr, xgbte_pr, knnte_pr, abte_pr, rfte_pr, clfte_pr]\n",
    "    precision_train = [lrtr_pr, dttr_pr, xgbtr_pr, knntr_pr, abtr_pr, rftr_pr, clftr_pr]\n",
    "    recall = [lr_re, dt_re, xgb_re, knn_re, ab_re, rf_re, clf_re]\n",
    "    f1 = [lr_f1, dt_f1, xgb_f1, knn_f1, ab_f1, rf_f1, clf_f1]\n",
    "    roc_auc_test = [lrte_roc_auc, dtte_roc_auc, xgbte_roc_auc, knnte_roc_auc, abte_roc_auc, rfte_roc_auc, clfte_roc_auc]\n",
    "    roc_auc_train = [lrtr_roc_auc, dttr_roc_auc, xgbtr_roc_auc, knntr_roc_auc, abtr_roc_auc, rftr_roc_auc, clftr_roc_auc]\n",
    "    roc_auc_test_cv = [lrte_roc_auc_cv, dtte_roc_auc_cv, xgbte_roc_auc_cv, knnte_roc_auc_cv, abte_roc_auc_cv, rfte_roc_auc_cv, clfte_roc_auc_cv]\n",
    "    roc_auc_train_cv = [lrtr_roc_auc_cv, dttr_roc_auc_cv, xgbtr_roc_auc_cv, knntr_roc_auc_cv, abtr_roc_auc_cv, rftr_roc_auc_cv, clftr_roc_auc_cv]\n",
    "    \n",
    "    model_comparison = pd.DataFrame(data=[models, test_score, \n",
    "                                          precision_test, precision_train, recall,\n",
    "                                          f1, roc_auc_test, roc_auc_train,\n",
    "                                          roc_auc_test_cv, roc_auc_train_cv]).T.rename({0: 'Model',\n",
    "                                                                                        1: 'Accuracy',\n",
    "                                                                                        2: 'Precision_Test',\n",
    "                                                                                        3: 'Precision_Train',\n",
    "                                                                                        4: 'Recall',\n",
    "                                                                                        5: 'F1 Score',\n",
    "                                                                                        6: 'ROC_AUC_Test',\n",
    "                                                                                        7: 'ROC_AUC_Train',\n",
    "                                                                                        8: 'ROC_AUC_Test_CV',\n",
    "                                                                                        9: 'ROC_AUC_Train_CV'\n",
    "                                                                                                              }, axis=1)\n",
    "    \n",
    "    return model_comparison"
   ]
  },
  {
   "cell_type": "code",
   "execution_count": 27,
   "id": "a34f9bc3-3f25-4785-86be-e7332703ddbd",
   "metadata": {},
   "outputs": [
    {
     "data": {
      "text/html": [
       "<div>\n",
       "<style scoped>\n",
       "    .dataframe tbody tr th:only-of-type {\n",
       "        vertical-align: middle;\n",
       "    }\n",
       "\n",
       "    .dataframe tbody tr th {\n",
       "        vertical-align: top;\n",
       "    }\n",
       "\n",
       "    .dataframe thead th {\n",
       "        text-align: right;\n",
       "    }\n",
       "</style>\n",
       "<table border=\"1\" class=\"dataframe\">\n",
       "  <thead>\n",
       "    <tr style=\"text-align: right;\">\n",
       "      <th></th>\n",
       "      <th>Model</th>\n",
       "      <th>Accuracy</th>\n",
       "      <th>Precision_Test</th>\n",
       "      <th>Precision_Train</th>\n",
       "      <th>Recall</th>\n",
       "      <th>F1 Score</th>\n",
       "      <th>ROC_AUC_Test</th>\n",
       "      <th>ROC_AUC_Train</th>\n",
       "      <th>ROC_AUC_Test_CV</th>\n",
       "      <th>ROC_AUC_Train_CV</th>\n",
       "    </tr>\n",
       "  </thead>\n",
       "  <tbody>\n",
       "    <tr>\n",
       "      <th>0</th>\n",
       "      <td>Logistic Regression</td>\n",
       "      <td>0.59</td>\n",
       "      <td>0.62</td>\n",
       "      <td>0.63</td>\n",
       "      <td>0.69</td>\n",
       "      <td>0.65</td>\n",
       "      <td>0.67</td>\n",
       "      <td>0.67</td>\n",
       "      <td>0.65</td>\n",
       "      <td>0.67</td>\n",
       "    </tr>\n",
       "    <tr>\n",
       "      <th>1</th>\n",
       "      <td>Decision Tree</td>\n",
       "      <td>0.61</td>\n",
       "      <td>0.65</td>\n",
       "      <td>1.0</td>\n",
       "      <td>0.66</td>\n",
       "      <td>0.65</td>\n",
       "      <td>0.61</td>\n",
       "      <td>1.0</td>\n",
       "      <td>0.58</td>\n",
       "      <td>1.0</td>\n",
       "    </tr>\n",
       "    <tr>\n",
       "      <th>2</th>\n",
       "      <td>XGBoost</td>\n",
       "      <td>0.62</td>\n",
       "      <td>0.68</td>\n",
       "      <td>0.95</td>\n",
       "      <td>0.61</td>\n",
       "      <td>0.64</td>\n",
       "      <td>0.7</td>\n",
       "      <td>0.97</td>\n",
       "      <td>0.68</td>\n",
       "      <td>0.97</td>\n",
       "    </tr>\n",
       "    <tr>\n",
       "      <th>3</th>\n",
       "      <td>KNN</td>\n",
       "      <td>0.61</td>\n",
       "      <td>0.66</td>\n",
       "      <td>0.8</td>\n",
       "      <td>0.61</td>\n",
       "      <td>0.64</td>\n",
       "      <td>0.68</td>\n",
       "      <td>0.84</td>\n",
       "      <td>0.65</td>\n",
       "      <td>0.84</td>\n",
       "    </tr>\n",
       "    <tr>\n",
       "      <th>4</th>\n",
       "      <td>AdaBoost</td>\n",
       "      <td>0.65</td>\n",
       "      <td>0.77</td>\n",
       "      <td>0.78</td>\n",
       "      <td>0.53</td>\n",
       "      <td>0.63</td>\n",
       "      <td>0.71</td>\n",
       "      <td>0.72</td>\n",
       "      <td>0.67</td>\n",
       "      <td>0.72</td>\n",
       "    </tr>\n",
       "    <tr>\n",
       "      <th>5</th>\n",
       "      <td>Random Forest</td>\n",
       "      <td>0.62</td>\n",
       "      <td>0.68</td>\n",
       "      <td>1.0</td>\n",
       "      <td>0.59</td>\n",
       "      <td>0.63</td>\n",
       "      <td>0.69</td>\n",
       "      <td>1.0</td>\n",
       "      <td>0.68</td>\n",
       "      <td>1.0</td>\n",
       "    </tr>\n",
       "    <tr>\n",
       "      <th>6</th>\n",
       "      <td>Naive Bayes</td>\n",
       "      <td>0.61</td>\n",
       "      <td>0.66</td>\n",
       "      <td>0.66</td>\n",
       "      <td>0.62</td>\n",
       "      <td>0.64</td>\n",
       "      <td>0.68</td>\n",
       "      <td>0.68</td>\n",
       "      <td>0.65</td>\n",
       "      <td>0.68</td>\n",
       "    </tr>\n",
       "  </tbody>\n",
       "</table>\n",
       "</div>"
      ],
      "text/plain": [
       "                 Model Accuracy Precision_Test Precision_Train Recall  \\\n",
       "0  Logistic Regression     0.59           0.62            0.63   0.69   \n",
       "1        Decision Tree     0.61           0.65             1.0   0.66   \n",
       "2              XGBoost     0.62           0.68            0.95   0.61   \n",
       "3                  KNN     0.61           0.66             0.8   0.61   \n",
       "4             AdaBoost     0.65           0.77            0.78   0.53   \n",
       "5        Random Forest     0.62           0.68             1.0   0.59   \n",
       "6          Naive Bayes     0.61           0.66            0.66   0.62   \n",
       "\n",
       "  F1 Score ROC_AUC_Test ROC_AUC_Train ROC_AUC_Test_CV ROC_AUC_Train_CV  \n",
       "0     0.65         0.67          0.67            0.65             0.67  \n",
       "1     0.65         0.61           1.0            0.58              1.0  \n",
       "2     0.64          0.7          0.97            0.68             0.97  \n",
       "3     0.64         0.68          0.84            0.65             0.84  \n",
       "4     0.63         0.71          0.72            0.67             0.72  \n",
       "5     0.63         0.69           1.0            0.68              1.0  \n",
       "6     0.64         0.68          0.68            0.65             0.68  "
      ]
     },
     "execution_count": 27,
     "metadata": {},
     "output_type": "execute_result"
    }
   ],
   "source": [
    "model_comparison_default(X, y)"
   ]
  },
  {
   "cell_type": "markdown",
   "id": "63bf1383-b8c9-4fe5-9312-dc12d3a51a3b",
   "metadata": {},
   "source": [
    "Dari hasil evaluasi model, terdapat beberapa poin penting:\n",
    "1. Accuracy paling tinggi didapat dengan menggunakan AdaBoost (0.65)\n",
    "2. Precissio paling tinggi didapat dengan menggunakan AdaBoost, XGBoost, dan Random Forest (0.77; 0.68; 0.68)\n",
    "3. Score ROC_AUC_CV paling tinggi didapat dengan menggunakan AdaBoost, XGBoost, dan RandomForest (0.67; 0.68; 0.68)\n",
    "4. Recall paling tinggi didapat dengan menggunakan Logistic Regression dan Decision Tree (0.69; 0.66)\n",
    "5. Model menggunakan RandomForest, XGBoost, DecisionTree, dan KNN mengalami overfitting\n",
    "\n",
    "\n",
    "Terdapat beberapa catatan dari poin-poin evaluasi model:\n",
    "1. Dengan mempertimbangkan target customer rating (customer memiliki experience yang lebih baik), dimana kesesuaian informasi mengenai datangnya pengiriman menjadi penting, maka dapat dilihat dari nilai *__----__*\n",
    "2. Model menggunakan ---- digunakan karena memiliki nilai *__----__* paling tinggi, namun terdapat sedikit ketidakseimbangan antara nilai *recall* dan *precission*-nya sehingga perlu melakukan tune hyperparameter\n",
    "3. Model dengan ---- bisa dijadikan pertimbangan juga"
   ]
  },
  {
   "cell_type": "markdown",
   "id": "feea2605",
   "metadata": {},
   "source": [
    "### C & D. Model Evaluation"
   ]
  },
  {
   "cell_type": "code",
   "execution_count": 28,
   "id": "364e9529-d9d0-4294-8459-8719266254af",
   "metadata": {},
   "outputs": [],
   "source": [
    "# Create function for evaluation model\n",
    "def eval_classification(model):\n",
    "    y_pred = model.predict(X_test)\n",
    "    y_pred_train = model.predict(X_train)\n",
    "    y_pred_proba = model.predict_proba(X_test)\n",
    "    y_pred_proba_train = model.predict_proba(X_train)\n",
    "    \n",
    "    print(\"Accuracy (Test Set): %.2f\" % accuracy_score(y_test, y_pred))\n",
    "    print(\"Precision (Test Set): %.2f\" % precision_score(y_test, y_pred))\n",
    "    print(\"Recall (Test Set): %.2f\" % recall_score(y_test, y_pred))\n",
    "    print(\"F1-Score (Test Set): %.2f\" % f1_score(y_test, y_pred))\n",
    "    \n",
    "    print(\"roc_auc (test proba): %.2f\" % roc_auc_score(y_test, y_pred_proba[:, 1]))\n",
    "    print(\"roc_auc (train proba): %.2f\" % roc_auc_score(y_train, y_pred_proba_train[:, 1]))\n",
    "\n",
    "    score = cross_validate(model, X, y, cv=5, scoring='roc_auc', return_train_score=True)\n",
    "    \n",
    "    print('roc_auc (cv test):' + str(score['test_score'].mean()))\n",
    "    print('roc_auc (cv train):' + str(score['train_score'].mean()))\n",
    "    \n",
    "    print(classification_report(y_test,y_pred))\n",
    "    confusion_matrix = plot_confusion_matrix(model, X_test, y_test)"
   ]
  },
  {
   "cell_type": "markdown",
   "id": "6135ba39-ae1d-4b59-be62-5fd50da613a9",
   "metadata": {},
   "source": [
    "#### Decision Tree"
   ]
  },
  {
   "cell_type": "code",
   "execution_count": 29,
   "id": "6621fc90-c8dc-4f72-a82e-4a63604797fa",
   "metadata": {},
   "outputs": [
    {
     "name": "stdout",
     "output_type": "stream",
     "text": [
      "Accuracy (Test Set): 0.61\n",
      "Precision (Test Set): 0.65\n",
      "Recall (Test Set): 0.66\n",
      "F1-Score (Test Set): 0.65\n",
      "roc_auc (test proba): 0.61\n",
      "roc_auc (train proba): 1.00\n",
      "roc_auc (cv test):0.5839381702599025\n",
      "roc_auc (cv train):1.0\n",
      "              precision    recall  f1-score   support\n",
      "\n",
      "           0       0.56      0.55      0.56      1332\n",
      "           1       0.65      0.66      0.65      1668\n",
      "\n",
      "    accuracy                           0.61      3000\n",
      "   macro avg       0.61      0.61      0.61      3000\n",
      "weighted avg       0.61      0.61      0.61      3000\n",
      "\n"
     ]
    },
    {
     "data": {
      "image/png": "[encoded data removed]",
      "text/plain": [
       "<Figure size 432x288 with 2 Axes>"
      ]
     },
     "metadata": {},
     "output_type": "display_data"
    }
   ],
   "source": [
    "dt = DecisionTreeClassifier(random_state=42)\n",
    "dt.fit(X_train, y_train)\n",
    "eval_classification(dt)"
   ]
  },
  {
   "cell_type": "markdown",
   "id": "593bef17-fcac-4a50-8750-c3e8e6b76ef3",
   "metadata": {},
   "source": [
    "### E. Hyperparameter Tuning"
   ]
  },
  {
   "cell_type": "code",
   "execution_count": 30,
   "id": "3a814a4c-2c64-46e5-9b2b-e29eebfb5777",
   "metadata": {},
   "outputs": [
    {
     "name": "stdout",
     "output_type": "stream",
     "text": [
      "Accuracy (Test Set): 0.61\n",
      "Precision (Test Set): 0.66\n",
      "Recall (Test Set): 0.61\n",
      "F1-Score (Test Set): 0.63\n",
      "roc_auc (test proba): 0.68\n",
      "roc_auc (train proba): 0.82\n",
      "roc_auc (cv test):0.661564272060468\n",
      "roc_auc (cv train):0.878115422673919\n",
      "              precision    recall  f1-score   support\n",
      "\n",
      "           0       0.55      0.60      0.57      1332\n",
      "           1       0.66      0.61      0.63      1668\n",
      "\n",
      "    accuracy                           0.61      3000\n",
      "   macro avg       0.60      0.60      0.60      3000\n",
      "weighted avg       0.61      0.61      0.61      3000\n",
      "\n"
     ]
    },
    {
     "data": {
      "image/png": "[encoded data removed]",
      "text/plain": [
       "<Figure size 432x288 with 2 Axes>"
      ]
     },
     "metadata": {},
     "output_type": "display_data"
    }
   ],
   "source": [
    "# Tuning hyperparameter\n",
    "\n",
    "# Import library\n",
    "from sklearn.model_selection import RandomizedSearchCV\n",
    "\n",
    "# List parameters\n",
    "hyperparameters = dict(max_depth = [int(x) for x in np.linspace(1, 110, num = 30)],\n",
    "                       min_samples_split = [2, 5, 10, 100],\n",
    "                       min_samples_leaf = [1, 2, 4, 10, 20, 50],\n",
    "                       max_features = ['auto', 'sqrt'],\n",
    "                       criterion = ['gini','entropy'],\n",
    "                       splitter = ['best','random'])\n",
    "\n",
    "# Init model\n",
    "dt = DecisionTreeClassifier(random_state=42)\n",
    "dt_tuned = RandomizedSearchCV(dt, hyperparameters, cv=5, scoring='recall', random_state=42)\n",
    "dt_tuned.fit(X_train,y_train)\n",
    "\n",
    "# Predict & Evaluation\n",
    "eval_classification(dt_tuned)"
   ]
  },
  {
   "cell_type": "markdown",
   "id": "1fb45cf1-f0c1-42e9-9c2b-dd6b8d75e84b",
   "metadata": {},
   "source": [
    "### 2. Feature Importance"
   ]
  },
  {
   "cell_type": "code",
   "execution_count": 32,
   "id": "1d879e75-7fc6-4bde-b7f8-bcf8a4ae9a48",
   "metadata": {},
   "outputs": [
    {
     "data": {
      "image/png": "[encoded data removed]",
      "text/plain": [
       "<Figure size 720x576 with 1 Axes>"
      ]
     },
     "metadata": {},
     "output_type": "display_data"
    }
   ],
   "source": [
    "def show_feature_importance(model):\n",
    "    feat_importances = pd.Series(model.feature_importances_, index=X.columns)\n",
    "    ax = feat_importances.nlargest(25).plot(kind='barh', figsize=(10, 8))\n",
    "    ax.invert_yaxis()\n",
    "\n",
    "    plt.xlabel('score')\n",
    "    plt.ylabel('feature')\n",
    "    plt.title('feature importance score')\n",
    "    \n",
    "show_feature_importance(dt_tuned.best_estimator_)"
   ]
  },
  {
   "cell_type": "markdown",
   "id": "fbd96d30",
   "metadata": {},
   "source": [
    "3 Feature Importance teratas : <br>\n",
    "1. Discount Offered\n",
    "2. Weight in gms\n",
    "3. Cost of Product"
   ]
  },
  {
   "cell_type": "markdown",
   "id": "79af8207",
   "metadata": {},
   "source": [
    "### Business Insight yang didapat"
   ]
  },
  {
   "cell_type": "code",
   "execution_count": 74,
   "id": "aea228d6",
   "metadata": {},
   "outputs": [
    {
     "data": {
      "text/html": [
       "<div>\n",
       "<style scoped>\n",
       "    .dataframe tbody tr th:only-of-type {\n",
       "        vertical-align: middle;\n",
       "    }\n",
       "\n",
       "    .dataframe tbody tr th {\n",
       "        vertical-align: top;\n",
       "    }\n",
       "\n",
       "    .dataframe thead th {\n",
       "        text-align: right;\n",
       "    }\n",
       "</style>\n",
       "<table border=\"1\" class=\"dataframe\">\n",
       "  <thead>\n",
       "    <tr style=\"text-align: right;\">\n",
       "      <th></th>\n",
       "      <th>ID</th>\n",
       "      <th>Warehouse_block</th>\n",
       "      <th>Mode_of_Shipment</th>\n",
       "      <th>Customer_care_calls</th>\n",
       "      <th>Customer_rating</th>\n",
       "      <th>Cost_of_the_Product</th>\n",
       "      <th>Prior_purchases</th>\n",
       "      <th>Product_importance</th>\n",
       "      <th>Gender</th>\n",
       "      <th>Discount_offered</th>\n",
       "      <th>Weight_in_gms</th>\n",
       "      <th>is_late</th>\n",
       "    </tr>\n",
       "  </thead>\n",
       "  <tbody>\n",
       "    <tr>\n",
       "      <th>4800</th>\n",
       "      <td>4801</td>\n",
       "      <td>D</td>\n",
       "      <td>Flight</td>\n",
       "      <td>7</td>\n",
       "      <td>1</td>\n",
       "      <td>291</td>\n",
       "      <td>4</td>\n",
       "      <td>low</td>\n",
       "      <td>M</td>\n",
       "      <td>2</td>\n",
       "      <td>1216</td>\n",
       "      <td>1</td>\n",
       "    </tr>\n",
       "    <tr>\n",
       "      <th>3326</th>\n",
       "      <td>3327</td>\n",
       "      <td>A</td>\n",
       "      <td>Ship</td>\n",
       "      <td>4</td>\n",
       "      <td>2</td>\n",
       "      <td>156</td>\n",
       "      <td>3</td>\n",
       "      <td>low</td>\n",
       "      <td>M</td>\n",
       "      <td>3</td>\n",
       "      <td>5923</td>\n",
       "      <td>0</td>\n",
       "    </tr>\n",
       "    <tr>\n",
       "      <th>9202</th>\n",
       "      <td>9203</td>\n",
       "      <td>C</td>\n",
       "      <td>Ship</td>\n",
       "      <td>4</td>\n",
       "      <td>5</td>\n",
       "      <td>136</td>\n",
       "      <td>2</td>\n",
       "      <td>medium</td>\n",
       "      <td>M</td>\n",
       "      <td>4</td>\n",
       "      <td>5512</td>\n",
       "      <td>0</td>\n",
       "    </tr>\n",
       "    <tr>\n",
       "      <th>9467</th>\n",
       "      <td>9468</td>\n",
       "      <td>F</td>\n",
       "      <td>Flight</td>\n",
       "      <td>3</td>\n",
       "      <td>4</td>\n",
       "      <td>191</td>\n",
       "      <td>3</td>\n",
       "      <td>medium</td>\n",
       "      <td>F</td>\n",
       "      <td>10</td>\n",
       "      <td>4667</td>\n",
       "      <td>0</td>\n",
       "    </tr>\n",
       "    <tr>\n",
       "      <th>4229</th>\n",
       "      <td>4230</td>\n",
       "      <td>F</td>\n",
       "      <td>Road</td>\n",
       "      <td>5</td>\n",
       "      <td>4</td>\n",
       "      <td>172</td>\n",
       "      <td>4</td>\n",
       "      <td>medium</td>\n",
       "      <td>F</td>\n",
       "      <td>10</td>\n",
       "      <td>4659</td>\n",
       "      <td>1</td>\n",
       "    </tr>\n",
       "  </tbody>\n",
       "</table>\n",
       "</div>"
      ],
      "text/plain": [
       "        ID Warehouse_block Mode_of_Shipment  Customer_care_calls  \\\n",
       "4800  4801               D           Flight                    7   \n",
       "3326  3327               A             Ship                    4   \n",
       "9202  9203               C             Ship                    4   \n",
       "9467  9468               F           Flight                    3   \n",
       "4229  4230               F             Road                    5   \n",
       "\n",
       "      Customer_rating  Cost_of_the_Product  Prior_purchases  \\\n",
       "4800                1                  291                4   \n",
       "3326                2                  156                3   \n",
       "9202                5                  136                2   \n",
       "9467                4                  191                3   \n",
       "4229                4                  172                4   \n",
       "\n",
       "     Product_importance Gender  Discount_offered  Weight_in_gms  is_late  \n",
       "4800                low      M                 2           1216        1  \n",
       "3326                low      M                 3           5923        0  \n",
       "9202             medium      M                 4           5512        0  \n",
       "9467             medium      F                10           4667        0  \n",
       "4229             medium      F                10           4659        1  "
      ]
     },
     "execution_count": 74,
     "metadata": {},
     "output_type": "execute_result"
    }
   ],
   "source": [
    "df_2 = pd.read_csv('E commerce Train.csv')\n",
    "df_2 = df_2.rename(columns={'Reached.on.Time_Y.N' : 'is_late'})\n",
    "df_2.sample(5)"
   ]
  },
  {
   "cell_type": "code",
   "execution_count": 75,
   "id": "ad135ac4",
   "metadata": {},
   "outputs": [],
   "source": [
    "df_2['Discount_group'] = np.where(df_2['Discount_offered'] <= 10, '1-10',\n",
    "                                   np.where(df_2['Discount_offered'] <= 20, '11-20',\n",
    "                                   np.where(df_2['Discount_offered'] <= 30, '21-30',\n",
    "                                   np.where(df_2['Discount_offered'] <= 40, '31-40', '>40')))) "
   ]
  },
  {
   "cell_type": "code",
   "execution_count": 76,
   "id": "8ec24ea9",
   "metadata": {},
   "outputs": [
    {
     "data": {
      "text/html": [
       "<div>\n",
       "<style scoped>\n",
       "    .dataframe tbody tr th:only-of-type {\n",
       "        vertical-align: middle;\n",
       "    }\n",
       "\n",
       "    .dataframe tbody tr th {\n",
       "        vertical-align: top;\n",
       "    }\n",
       "\n",
       "    .dataframe thead th {\n",
       "        text-align: right;\n",
       "    }\n",
       "</style>\n",
       "<table border=\"1\" class=\"dataframe\">\n",
       "  <thead>\n",
       "    <tr style=\"text-align: right;\">\n",
       "      <th></th>\n",
       "      <th>Discount_group</th>\n",
       "      <th>is_late</th>\n",
       "      <th>Customer</th>\n",
       "    </tr>\n",
       "  </thead>\n",
       "  <tbody>\n",
       "    <tr>\n",
       "      <th>0</th>\n",
       "      <td>1-10</td>\n",
       "      <td>0</td>\n",
       "      <td>4436</td>\n",
       "    </tr>\n",
       "    <tr>\n",
       "      <th>1</th>\n",
       "      <td>1-10</td>\n",
       "      <td>1</td>\n",
       "      <td>3916</td>\n",
       "    </tr>\n",
       "    <tr>\n",
       "      <th>2</th>\n",
       "      <td>11-20</td>\n",
       "      <td>1</td>\n",
       "      <td>496</td>\n",
       "    </tr>\n",
       "    <tr>\n",
       "      <th>3</th>\n",
       "      <td>21-30</td>\n",
       "      <td>1</td>\n",
       "      <td>441</td>\n",
       "    </tr>\n",
       "    <tr>\n",
       "      <th>4</th>\n",
       "      <td>31-40</td>\n",
       "      <td>1</td>\n",
       "      <td>470</td>\n",
       "    </tr>\n",
       "    <tr>\n",
       "      <th>5</th>\n",
       "      <td>&gt;40</td>\n",
       "      <td>1</td>\n",
       "      <td>1240</td>\n",
       "    </tr>\n",
       "  </tbody>\n",
       "</table>\n",
       "</div>"
      ],
      "text/plain": [
       "  Discount_group  is_late  Customer\n",
       "0           1-10        0      4436\n",
       "1           1-10        1      3916\n",
       "2          11-20        1       496\n",
       "3          21-30        1       441\n",
       "4          31-40        1       470\n",
       "5            >40        1      1240"
      ]
     },
     "execution_count": 76,
     "metadata": {},
     "output_type": "execute_result"
    }
   ],
   "source": [
    "dfs = df_2.groupby(['Discount_group', 'is_late'])['ID'].nunique().reset_index(name='Customer')\n",
    "dfs"
   ]
  },
  {
   "cell_type": "code",
   "execution_count": 78,
   "id": "f676752d",
   "metadata": {},
   "outputs": [
    {
     "data": {
      "text/html": [
       "<div>\n",
       "<style scoped>\n",
       "    .dataframe tbody tr th:only-of-type {\n",
       "        vertical-align: middle;\n",
       "    }\n",
       "\n",
       "    .dataframe tbody tr th {\n",
       "        vertical-align: top;\n",
       "    }\n",
       "\n",
       "    .dataframe thead th {\n",
       "        text-align: right;\n",
       "    }\n",
       "</style>\n",
       "<table border=\"1\" class=\"dataframe\">\n",
       "  <thead>\n",
       "    <tr style=\"text-align: right;\">\n",
       "      <th></th>\n",
       "      <th>Discount_group</th>\n",
       "      <th>TotalCustomer</th>\n",
       "    </tr>\n",
       "  </thead>\n",
       "  <tbody>\n",
       "    <tr>\n",
       "      <th>0</th>\n",
       "      <td>1-10</td>\n",
       "      <td>8352</td>\n",
       "    </tr>\n",
       "    <tr>\n",
       "      <th>1</th>\n",
       "      <td>11-20</td>\n",
       "      <td>496</td>\n",
       "    </tr>\n",
       "    <tr>\n",
       "      <th>2</th>\n",
       "      <td>21-30</td>\n",
       "      <td>441</td>\n",
       "    </tr>\n",
       "    <tr>\n",
       "      <th>3</th>\n",
       "      <td>31-40</td>\n",
       "      <td>470</td>\n",
       "    </tr>\n",
       "    <tr>\n",
       "      <th>4</th>\n",
       "      <td>&gt;40</td>\n",
       "      <td>1240</td>\n",
       "    </tr>\n",
       "  </tbody>\n",
       "</table>\n",
       "</div>"
      ],
      "text/plain": [
       "  Discount_group  TotalCustomer\n",
       "0           1-10           8352\n",
       "1          11-20            496\n",
       "2          21-30            441\n",
       "3          31-40            470\n",
       "4            >40           1240"
      ]
     },
     "execution_count": 78,
     "metadata": {},
     "output_type": "execute_result"
    }
   ],
   "source": [
    "dfs2 = df_2.groupby(['Discount_group'])['ID'].nunique().reset_index(name='TotalCustomer')\n",
    "dfs2"
   ]
  },
  {
   "cell_type": "code",
   "execution_count": 80,
   "id": "5cdeb700",
   "metadata": {},
   "outputs": [],
   "source": [
    "dfs3 = dfs.merge(dfs2,\n",
    "                 left_on='Discount_group',\n",
    "                 right_on='Discount_group',\n",
    "                 how='inner')"
   ]
  },
  {
   "cell_type": "code",
   "execution_count": 81,
   "id": "0310f085",
   "metadata": {},
   "outputs": [
    {
     "data": {
      "text/html": [
       "<div>\n",
       "<style scoped>\n",
       "    .dataframe tbody tr th:only-of-type {\n",
       "        vertical-align: middle;\n",
       "    }\n",
       "\n",
       "    .dataframe tbody tr th {\n",
       "        vertical-align: top;\n",
       "    }\n",
       "\n",
       "    .dataframe thead th {\n",
       "        text-align: right;\n",
       "    }\n",
       "</style>\n",
       "<table border=\"1\" class=\"dataframe\">\n",
       "  <thead>\n",
       "    <tr style=\"text-align: right;\">\n",
       "      <th></th>\n",
       "      <th>Discount_group</th>\n",
       "      <th>is_late</th>\n",
       "      <th>Customer</th>\n",
       "      <th>TotalCustomer</th>\n",
       "      <th>PercentageCustomer</th>\n",
       "    </tr>\n",
       "  </thead>\n",
       "  <tbody>\n",
       "    <tr>\n",
       "      <th>0</th>\n",
       "      <td>1-10</td>\n",
       "      <td>0</td>\n",
       "      <td>4436</td>\n",
       "      <td>8352</td>\n",
       "      <td>53.11</td>\n",
       "    </tr>\n",
       "    <tr>\n",
       "      <th>1</th>\n",
       "      <td>1-10</td>\n",
       "      <td>1</td>\n",
       "      <td>3916</td>\n",
       "      <td>8352</td>\n",
       "      <td>46.89</td>\n",
       "    </tr>\n",
       "    <tr>\n",
       "      <th>2</th>\n",
       "      <td>11-20</td>\n",
       "      <td>1</td>\n",
       "      <td>496</td>\n",
       "      <td>496</td>\n",
       "      <td>100.00</td>\n",
       "    </tr>\n",
       "    <tr>\n",
       "      <th>3</th>\n",
       "      <td>21-30</td>\n",
       "      <td>1</td>\n",
       "      <td>441</td>\n",
       "      <td>441</td>\n",
       "      <td>100.00</td>\n",
       "    </tr>\n",
       "    <tr>\n",
       "      <th>4</th>\n",
       "      <td>31-40</td>\n",
       "      <td>1</td>\n",
       "      <td>470</td>\n",
       "      <td>470</td>\n",
       "      <td>100.00</td>\n",
       "    </tr>\n",
       "    <tr>\n",
       "      <th>5</th>\n",
       "      <td>&gt;40</td>\n",
       "      <td>1</td>\n",
       "      <td>1240</td>\n",
       "      <td>1240</td>\n",
       "      <td>100.00</td>\n",
       "    </tr>\n",
       "  </tbody>\n",
       "</table>\n",
       "</div>"
      ],
      "text/plain": [
       "  Discount_group  is_late  Customer  TotalCustomer  PercentageCustomer\n",
       "0           1-10        0      4436           8352               53.11\n",
       "1           1-10        1      3916           8352               46.89\n",
       "2          11-20        1       496            496              100.00\n",
       "3          21-30        1       441            441              100.00\n",
       "4          31-40        1       470            470              100.00\n",
       "5            >40        1      1240           1240              100.00"
      ]
     },
     "execution_count": 81,
     "metadata": {},
     "output_type": "execute_result"
    }
   ],
   "source": [
    "dfs3['PercentageCustomer'] = round(dfs3['Customer']*100/dfs3['TotalCustomer'],2)\n",
    "dfs3"
   ]
  },
  {
   "cell_type": "code",
   "execution_count": 85,
   "id": "b2fe8940",
   "metadata": {
    "scrolled": true
   },
   "outputs": [
    {
     "data": {
      "image/png": "[encoded data removed]",
      "text/plain": [
       "<Figure size 720x288 with 1 Axes>"
      ]
     },
     "metadata": {},
     "output_type": "display_data"
    }
   ],
   "source": [
    "plt.figure(figsize = (10,4))\n",
    "sns.barplot(data=dfs3, x = 'Discount_group', y = 'PercentageCustomer', hue = 'is_late', palette='mako')\n",
    "plt.xlabel('Discount Group', fontsize = 14)\n",
    "plt.ylabel('Percentage Customer', fontsize = 14)\n",
    "plt.tick_params(axis='both', which='major', labelsize=14)\n",
    "plt.tight_layout()"
   ]
  },
  {
   "cell_type": "code",
   "execution_count": 91,
   "id": "6fc1fea0",
   "metadata": {},
   "outputs": [],
   "source": [
    "df_2['weight_group'] = np.where(df_2['Weight_in_gms'] < 2001, '< 2kg', \n",
    "                                          np.where(df_2['Weight_in_gms'] < 5001, '2-5kg', '> 5kg') )"
   ]
  },
  {
   "cell_type": "code",
   "execution_count": 92,
   "id": "27253bfe",
   "metadata": {},
   "outputs": [
    {
     "data": {
      "text/html": [
       "<div>\n",
       "<style scoped>\n",
       "    .dataframe tbody tr th:only-of-type {\n",
       "        vertical-align: middle;\n",
       "    }\n",
       "\n",
       "    .dataframe tbody tr th {\n",
       "        vertical-align: top;\n",
       "    }\n",
       "\n",
       "    .dataframe thead th {\n",
       "        text-align: right;\n",
       "    }\n",
       "</style>\n",
       "<table border=\"1\" class=\"dataframe\">\n",
       "  <thead>\n",
       "    <tr style=\"text-align: right;\">\n",
       "      <th></th>\n",
       "      <th>ID</th>\n",
       "      <th>Warehouse_block</th>\n",
       "      <th>Mode_of_Shipment</th>\n",
       "      <th>Customer_care_calls</th>\n",
       "      <th>Customer_rating</th>\n",
       "      <th>Cost_of_the_Product</th>\n",
       "      <th>Prior_purchases</th>\n",
       "      <th>Product_importance</th>\n",
       "      <th>Gender</th>\n",
       "      <th>Discount_offered</th>\n",
       "      <th>Weight_in_gms</th>\n",
       "      <th>is_late</th>\n",
       "      <th>Discount_group</th>\n",
       "      <th>weight_group</th>\n",
       "    </tr>\n",
       "  </thead>\n",
       "  <tbody>\n",
       "    <tr>\n",
       "      <th>0</th>\n",
       "      <td>1</td>\n",
       "      <td>D</td>\n",
       "      <td>Flight</td>\n",
       "      <td>4</td>\n",
       "      <td>2</td>\n",
       "      <td>177</td>\n",
       "      <td>3</td>\n",
       "      <td>low</td>\n",
       "      <td>F</td>\n",
       "      <td>44</td>\n",
       "      <td>1233</td>\n",
       "      <td>1</td>\n",
       "      <td>&gt;40</td>\n",
       "      <td>&lt; 2kg</td>\n",
       "    </tr>\n",
       "    <tr>\n",
       "      <th>1</th>\n",
       "      <td>2</td>\n",
       "      <td>F</td>\n",
       "      <td>Flight</td>\n",
       "      <td>4</td>\n",
       "      <td>5</td>\n",
       "      <td>216</td>\n",
       "      <td>2</td>\n",
       "      <td>low</td>\n",
       "      <td>M</td>\n",
       "      <td>59</td>\n",
       "      <td>3088</td>\n",
       "      <td>1</td>\n",
       "      <td>&gt;40</td>\n",
       "      <td>2-5kg</td>\n",
       "    </tr>\n",
       "    <tr>\n",
       "      <th>2</th>\n",
       "      <td>3</td>\n",
       "      <td>A</td>\n",
       "      <td>Flight</td>\n",
       "      <td>2</td>\n",
       "      <td>2</td>\n",
       "      <td>183</td>\n",
       "      <td>4</td>\n",
       "      <td>low</td>\n",
       "      <td>M</td>\n",
       "      <td>48</td>\n",
       "      <td>3374</td>\n",
       "      <td>1</td>\n",
       "      <td>&gt;40</td>\n",
       "      <td>2-5kg</td>\n",
       "    </tr>\n",
       "    <tr>\n",
       "      <th>3</th>\n",
       "      <td>4</td>\n",
       "      <td>B</td>\n",
       "      <td>Flight</td>\n",
       "      <td>3</td>\n",
       "      <td>3</td>\n",
       "      <td>176</td>\n",
       "      <td>4</td>\n",
       "      <td>medium</td>\n",
       "      <td>M</td>\n",
       "      <td>10</td>\n",
       "      <td>1177</td>\n",
       "      <td>1</td>\n",
       "      <td>1-10</td>\n",
       "      <td>&lt; 2kg</td>\n",
       "    </tr>\n",
       "    <tr>\n",
       "      <th>4</th>\n",
       "      <td>5</td>\n",
       "      <td>C</td>\n",
       "      <td>Flight</td>\n",
       "      <td>2</td>\n",
       "      <td>2</td>\n",
       "      <td>184</td>\n",
       "      <td>3</td>\n",
       "      <td>medium</td>\n",
       "      <td>F</td>\n",
       "      <td>46</td>\n",
       "      <td>2484</td>\n",
       "      <td>1</td>\n",
       "      <td>&gt;40</td>\n",
       "      <td>2-5kg</td>\n",
       "    </tr>\n",
       "    <tr>\n",
       "      <th>...</th>\n",
       "      <td>...</td>\n",
       "      <td>...</td>\n",
       "      <td>...</td>\n",
       "      <td>...</td>\n",
       "      <td>...</td>\n",
       "      <td>...</td>\n",
       "      <td>...</td>\n",
       "      <td>...</td>\n",
       "      <td>...</td>\n",
       "      <td>...</td>\n",
       "      <td>...</td>\n",
       "      <td>...</td>\n",
       "      <td>...</td>\n",
       "      <td>...</td>\n",
       "    </tr>\n",
       "    <tr>\n",
       "      <th>10994</th>\n",
       "      <td>10995</td>\n",
       "      <td>A</td>\n",
       "      <td>Ship</td>\n",
       "      <td>4</td>\n",
       "      <td>1</td>\n",
       "      <td>252</td>\n",
       "      <td>5</td>\n",
       "      <td>medium</td>\n",
       "      <td>F</td>\n",
       "      <td>1</td>\n",
       "      <td>1538</td>\n",
       "      <td>1</td>\n",
       "      <td>1-10</td>\n",
       "      <td>&lt; 2kg</td>\n",
       "    </tr>\n",
       "    <tr>\n",
       "      <th>10995</th>\n",
       "      <td>10996</td>\n",
       "      <td>B</td>\n",
       "      <td>Ship</td>\n",
       "      <td>4</td>\n",
       "      <td>1</td>\n",
       "      <td>232</td>\n",
       "      <td>5</td>\n",
       "      <td>medium</td>\n",
       "      <td>F</td>\n",
       "      <td>6</td>\n",
       "      <td>1247</td>\n",
       "      <td>0</td>\n",
       "      <td>1-10</td>\n",
       "      <td>&lt; 2kg</td>\n",
       "    </tr>\n",
       "    <tr>\n",
       "      <th>10996</th>\n",
       "      <td>10997</td>\n",
       "      <td>C</td>\n",
       "      <td>Ship</td>\n",
       "      <td>5</td>\n",
       "      <td>4</td>\n",
       "      <td>242</td>\n",
       "      <td>5</td>\n",
       "      <td>low</td>\n",
       "      <td>F</td>\n",
       "      <td>4</td>\n",
       "      <td>1155</td>\n",
       "      <td>0</td>\n",
       "      <td>1-10</td>\n",
       "      <td>&lt; 2kg</td>\n",
       "    </tr>\n",
       "    <tr>\n",
       "      <th>10997</th>\n",
       "      <td>10998</td>\n",
       "      <td>F</td>\n",
       "      <td>Ship</td>\n",
       "      <td>5</td>\n",
       "      <td>2</td>\n",
       "      <td>223</td>\n",
       "      <td>6</td>\n",
       "      <td>medium</td>\n",
       "      <td>M</td>\n",
       "      <td>2</td>\n",
       "      <td>1210</td>\n",
       "      <td>0</td>\n",
       "      <td>1-10</td>\n",
       "      <td>&lt; 2kg</td>\n",
       "    </tr>\n",
       "    <tr>\n",
       "      <th>10998</th>\n",
       "      <td>10999</td>\n",
       "      <td>D</td>\n",
       "      <td>Ship</td>\n",
       "      <td>2</td>\n",
       "      <td>5</td>\n",
       "      <td>155</td>\n",
       "      <td>5</td>\n",
       "      <td>low</td>\n",
       "      <td>F</td>\n",
       "      <td>6</td>\n",
       "      <td>1639</td>\n",
       "      <td>0</td>\n",
       "      <td>1-10</td>\n",
       "      <td>&lt; 2kg</td>\n",
       "    </tr>\n",
       "  </tbody>\n",
       "</table>\n",
       "<p>10999 rows × 14 columns</p>\n",
       "</div>"
      ],
      "text/plain": [
       "          ID Warehouse_block Mode_of_Shipment  Customer_care_calls  \\\n",
       "0          1               D           Flight                    4   \n",
       "1          2               F           Flight                    4   \n",
       "2          3               A           Flight                    2   \n",
       "3          4               B           Flight                    3   \n",
       "4          5               C           Flight                    2   \n",
       "...      ...             ...              ...                  ...   \n",
       "10994  10995               A             Ship                    4   \n",
       "10995  10996               B             Ship                    4   \n",
       "10996  10997               C             Ship                    5   \n",
       "10997  10998               F             Ship                    5   \n",
       "10998  10999               D             Ship                    2   \n",
       "\n",
       "       Customer_rating  Cost_of_the_Product  Prior_purchases  \\\n",
       "0                    2                  177                3   \n",
       "1                    5                  216                2   \n",
       "2                    2                  183                4   \n",
       "3                    3                  176                4   \n",
       "4                    2                  184                3   \n",
       "...                ...                  ...              ...   \n",
       "10994                1                  252                5   \n",
       "10995                1                  232                5   \n",
       "10996                4                  242                5   \n",
       "10997                2                  223                6   \n",
       "10998                5                  155                5   \n",
       "\n",
       "      Product_importance Gender  Discount_offered  Weight_in_gms  is_late  \\\n",
       "0                    low      F                44           1233        1   \n",
       "1                    low      M                59           3088        1   \n",
       "2                    low      M                48           3374        1   \n",
       "3                 medium      M                10           1177        1   \n",
       "4                 medium      F                46           2484        1   \n",
       "...                  ...    ...               ...            ...      ...   \n",
       "10994             medium      F                 1           1538        1   \n",
       "10995             medium      F                 6           1247        0   \n",
       "10996                low      F                 4           1155        0   \n",
       "10997             medium      M                 2           1210        0   \n",
       "10998                low      F                 6           1639        0   \n",
       "\n",
       "      Discount_group weight_group  \n",
       "0                >40        < 2kg  \n",
       "1                >40        2-5kg  \n",
       "2                >40        2-5kg  \n",
       "3               1-10        < 2kg  \n",
       "4                >40        2-5kg  \n",
       "...              ...          ...  \n",
       "10994           1-10        < 2kg  \n",
       "10995           1-10        < 2kg  \n",
       "10996           1-10        < 2kg  \n",
       "10997           1-10        < 2kg  \n",
       "10998           1-10        < 2kg  \n",
       "\n",
       "[10999 rows x 14 columns]"
      ]
     },
     "execution_count": 92,
     "metadata": {},
     "output_type": "execute_result"
    }
   ],
   "source": [
    "df_2"
   ]
  },
  {
   "cell_type": "code",
   "execution_count": 98,
   "id": "82a2532f",
   "metadata": {},
   "outputs": [
    {
     "data": {
      "text/html": [
       "<div>\n",
       "<style scoped>\n",
       "    .dataframe tbody tr th:only-of-type {\n",
       "        vertical-align: middle;\n",
       "    }\n",
       "\n",
       "    .dataframe tbody tr th {\n",
       "        vertical-align: top;\n",
       "    }\n",
       "\n",
       "    .dataframe thead th {\n",
       "        text-align: right;\n",
       "    }\n",
       "</style>\n",
       "<table border=\"1\" class=\"dataframe\">\n",
       "  <thead>\n",
       "    <tr style=\"text-align: right;\">\n",
       "      <th></th>\n",
       "      <th>weight_group</th>\n",
       "      <th>is_late</th>\n",
       "      <th>Customer</th>\n",
       "    </tr>\n",
       "  </thead>\n",
       "  <tbody>\n",
       "    <tr>\n",
       "      <th>0</th>\n",
       "      <td>2-5kg</td>\n",
       "      <td>0</td>\n",
       "      <td>1734</td>\n",
       "    </tr>\n",
       "    <tr>\n",
       "      <th>1</th>\n",
       "      <td>2-5kg</td>\n",
       "      <td>1</td>\n",
       "      <td>3131</td>\n",
       "    </tr>\n",
       "    <tr>\n",
       "      <th>2</th>\n",
       "      <td>&lt; 2kg</td>\n",
       "      <td>0</td>\n",
       "      <td>1046</td>\n",
       "    </tr>\n",
       "    <tr>\n",
       "      <th>3</th>\n",
       "      <td>&lt; 2kg</td>\n",
       "      <td>1</td>\n",
       "      <td>2199</td>\n",
       "    </tr>\n",
       "    <tr>\n",
       "      <th>4</th>\n",
       "      <td>&gt; 5kg</td>\n",
       "      <td>0</td>\n",
       "      <td>1656</td>\n",
       "    </tr>\n",
       "    <tr>\n",
       "      <th>5</th>\n",
       "      <td>&gt; 5kg</td>\n",
       "      <td>1</td>\n",
       "      <td>1233</td>\n",
       "    </tr>\n",
       "  </tbody>\n",
       "</table>\n",
       "</div>"
      ],
      "text/plain": [
       "  weight_group  is_late  Customer\n",
       "0        2-5kg        0      1734\n",
       "1        2-5kg        1      3131\n",
       "2        < 2kg        0      1046\n",
       "3        < 2kg        1      2199\n",
       "4        > 5kg        0      1656\n",
       "5        > 5kg        1      1233"
      ]
     },
     "execution_count": 98,
     "metadata": {},
     "output_type": "execute_result"
    }
   ],
   "source": [
    "df_w = df_2.groupby(['weight_group', 'is_late'])['ID'].nunique().reset_index(name='Customer')\n",
    "df_w"
   ]
  },
  {
   "cell_type": "code",
   "execution_count": 99,
   "id": "26e9f2db",
   "metadata": {},
   "outputs": [
    {
     "data": {
      "text/html": [
       "<div>\n",
       "<style scoped>\n",
       "    .dataframe tbody tr th:only-of-type {\n",
       "        vertical-align: middle;\n",
       "    }\n",
       "\n",
       "    .dataframe tbody tr th {\n",
       "        vertical-align: top;\n",
       "    }\n",
       "\n",
       "    .dataframe thead th {\n",
       "        text-align: right;\n",
       "    }\n",
       "</style>\n",
       "<table border=\"1\" class=\"dataframe\">\n",
       "  <thead>\n",
       "    <tr style=\"text-align: right;\">\n",
       "      <th></th>\n",
       "      <th>weight_group</th>\n",
       "      <th>TotalCustomer</th>\n",
       "    </tr>\n",
       "  </thead>\n",
       "  <tbody>\n",
       "    <tr>\n",
       "      <th>0</th>\n",
       "      <td>2-5kg</td>\n",
       "      <td>4865</td>\n",
       "    </tr>\n",
       "    <tr>\n",
       "      <th>1</th>\n",
       "      <td>&lt; 2kg</td>\n",
       "      <td>3245</td>\n",
       "    </tr>\n",
       "    <tr>\n",
       "      <th>2</th>\n",
       "      <td>&gt; 5kg</td>\n",
       "      <td>2889</td>\n",
       "    </tr>\n",
       "  </tbody>\n",
       "</table>\n",
       "</div>"
      ],
      "text/plain": [
       "  weight_group  TotalCustomer\n",
       "0        2-5kg           4865\n",
       "1        < 2kg           3245\n",
       "2        > 5kg           2889"
      ]
     },
     "execution_count": 99,
     "metadata": {},
     "output_type": "execute_result"
    }
   ],
   "source": [
    "df_w2 = df_2.groupby(['weight_group'])['ID'].nunique().reset_index(name='TotalCustomer')\n",
    "df_w2"
   ]
  },
  {
   "cell_type": "code",
   "execution_count": 100,
   "id": "52c0b693",
   "metadata": {},
   "outputs": [
    {
     "data": {
      "text/html": [
       "<div>\n",
       "<style scoped>\n",
       "    .dataframe tbody tr th:only-of-type {\n",
       "        vertical-align: middle;\n",
       "    }\n",
       "\n",
       "    .dataframe tbody tr th {\n",
       "        vertical-align: top;\n",
       "    }\n",
       "\n",
       "    .dataframe thead th {\n",
       "        text-align: right;\n",
       "    }\n",
       "</style>\n",
       "<table border=\"1\" class=\"dataframe\">\n",
       "  <thead>\n",
       "    <tr style=\"text-align: right;\">\n",
       "      <th></th>\n",
       "      <th>weight_group</th>\n",
       "      <th>is_late</th>\n",
       "      <th>Customer</th>\n",
       "    </tr>\n",
       "  </thead>\n",
       "  <tbody>\n",
       "    <tr>\n",
       "      <th>0</th>\n",
       "      <td>2-5kg</td>\n",
       "      <td>0</td>\n",
       "      <td>1734</td>\n",
       "    </tr>\n",
       "    <tr>\n",
       "      <th>1</th>\n",
       "      <td>2-5kg</td>\n",
       "      <td>1</td>\n",
       "      <td>3131</td>\n",
       "    </tr>\n",
       "    <tr>\n",
       "      <th>2</th>\n",
       "      <td>&lt; 2kg</td>\n",
       "      <td>0</td>\n",
       "      <td>1046</td>\n",
       "    </tr>\n",
       "    <tr>\n",
       "      <th>3</th>\n",
       "      <td>&lt; 2kg</td>\n",
       "      <td>1</td>\n",
       "      <td>2199</td>\n",
       "    </tr>\n",
       "    <tr>\n",
       "      <th>4</th>\n",
       "      <td>&gt; 5kg</td>\n",
       "      <td>0</td>\n",
       "      <td>1656</td>\n",
       "    </tr>\n",
       "    <tr>\n",
       "      <th>5</th>\n",
       "      <td>&gt; 5kg</td>\n",
       "      <td>1</td>\n",
       "      <td>1233</td>\n",
       "    </tr>\n",
       "  </tbody>\n",
       "</table>\n",
       "</div>"
      ],
      "text/plain": [
       "  weight_group  is_late  Customer\n",
       "0        2-5kg        0      1734\n",
       "1        2-5kg        1      3131\n",
       "2        < 2kg        0      1046\n",
       "3        < 2kg        1      2199\n",
       "4        > 5kg        0      1656\n",
       "5        > 5kg        1      1233"
      ]
     },
     "execution_count": 100,
     "metadata": {},
     "output_type": "execute_result"
    }
   ],
   "source": [
    "df_w"
   ]
  },
  {
   "cell_type": "code",
   "execution_count": 101,
   "id": "133b8c7f",
   "metadata": {},
   "outputs": [],
   "source": [
    "df_w3 = df_w.merge(df_w2,\n",
    "                 left_on='weight_group',\n",
    "                 right_on='weight_group',\n",
    "                 how='inner')"
   ]
  },
  {
   "cell_type": "code",
   "execution_count": 126,
   "id": "5c3a91dc",
   "metadata": {},
   "outputs": [
    {
     "data": {
      "text/html": [
       "<div>\n",
       "<style scoped>\n",
       "    .dataframe tbody tr th:only-of-type {\n",
       "        vertical-align: middle;\n",
       "    }\n",
       "\n",
       "    .dataframe tbody tr th {\n",
       "        vertical-align: top;\n",
       "    }\n",
       "\n",
       "    .dataframe thead th {\n",
       "        text-align: right;\n",
       "    }\n",
       "</style>\n",
       "<table border=\"1\" class=\"dataframe\">\n",
       "  <thead>\n",
       "    <tr style=\"text-align: right;\">\n",
       "      <th></th>\n",
       "      <th>weight_group</th>\n",
       "      <th>is_late</th>\n",
       "      <th>Customer</th>\n",
       "      <th>TotalCustomer</th>\n",
       "      <th>PercentageCustomer2</th>\n",
       "    </tr>\n",
       "  </thead>\n",
       "  <tbody>\n",
       "    <tr>\n",
       "      <th>0</th>\n",
       "      <td>2-5kg</td>\n",
       "      <td>0</td>\n",
       "      <td>1734</td>\n",
       "      <td>4865</td>\n",
       "      <td>35.64</td>\n",
       "    </tr>\n",
       "    <tr>\n",
       "      <th>1</th>\n",
       "      <td>2-5kg</td>\n",
       "      <td>1</td>\n",
       "      <td>3131</td>\n",
       "      <td>4865</td>\n",
       "      <td>64.36</td>\n",
       "    </tr>\n",
       "    <tr>\n",
       "      <th>2</th>\n",
       "      <td>&lt; 2kg</td>\n",
       "      <td>0</td>\n",
       "      <td>1046</td>\n",
       "      <td>3245</td>\n",
       "      <td>32.23</td>\n",
       "    </tr>\n",
       "    <tr>\n",
       "      <th>3</th>\n",
       "      <td>&lt; 2kg</td>\n",
       "      <td>1</td>\n",
       "      <td>2199</td>\n",
       "      <td>3245</td>\n",
       "      <td>67.77</td>\n",
       "    </tr>\n",
       "    <tr>\n",
       "      <th>4</th>\n",
       "      <td>&gt; 5kg</td>\n",
       "      <td>0</td>\n",
       "      <td>1656</td>\n",
       "      <td>2889</td>\n",
       "      <td>57.32</td>\n",
       "    </tr>\n",
       "    <tr>\n",
       "      <th>5</th>\n",
       "      <td>&gt; 5kg</td>\n",
       "      <td>1</td>\n",
       "      <td>1233</td>\n",
       "      <td>2889</td>\n",
       "      <td>42.68</td>\n",
       "    </tr>\n",
       "  </tbody>\n",
       "</table>\n",
       "</div>"
      ],
      "text/plain": [
       "  weight_group  is_late  Customer  TotalCustomer  PercentageCustomer2\n",
       "0        2-5kg        0      1734           4865                35.64\n",
       "1        2-5kg        1      3131           4865                64.36\n",
       "2        < 2kg        0      1046           3245                32.23\n",
       "3        < 2kg        1      2199           3245                67.77\n",
       "4        > 5kg        0      1656           2889                57.32\n",
       "5        > 5kg        1      1233           2889                42.68"
      ]
     },
     "execution_count": 126,
     "metadata": {},
     "output_type": "execute_result"
    }
   ],
   "source": [
    "df_w3['PercentageCustomer2'] = round(df_w3['Customer']*100/df_w3['TotalCustomer'],2)\n",
    "df_w3"
   ]
  },
  {
   "cell_type": "code",
   "execution_count": 127,
   "id": "99cbb0f9",
   "metadata": {},
   "outputs": [
    {
     "data": {
      "image/png": "[encoded data removed]",
      "text/plain": [
       "<Figure size 720x288 with 1 Axes>"
      ]
     },
     "metadata": {},
     "output_type": "display_data"
    }
   ],
   "source": [
    "plt.figure(figsize = (10,4))\n",
    "sns.barplot(data=df_w3, x = 'weight_group', y = 'PercentageCustomer2', hue = 'is_late', palette='mako')\n",
    "plt.xlabel('weight_group', fontsize = 14)\n",
    "plt.ylabel('Percentage Customer', fontsize = 14)\n",
    "plt.tick_params(axis='both', which='major', labelsize=14)\n",
    "plt.tight_layout()"
   ]
  },
  {
   "cell_type": "code",
   "execution_count": 111,
   "id": "e1ef11fd",
   "metadata": {},
   "outputs": [
    {
     "data": {
      "text/html": [
       "<div>\n",
       "<style scoped>\n",
       "    .dataframe tbody tr th:only-of-type {\n",
       "        vertical-align: middle;\n",
       "    }\n",
       "\n",
       "    .dataframe tbody tr th {\n",
       "        vertical-align: top;\n",
       "    }\n",
       "\n",
       "    .dataframe thead th {\n",
       "        text-align: right;\n",
       "    }\n",
       "</style>\n",
       "<table border=\"1\" class=\"dataframe\">\n",
       "  <thead>\n",
       "    <tr style=\"text-align: right;\">\n",
       "      <th></th>\n",
       "      <th>Customer_care_calls</th>\n",
       "      <th>Customer_rating</th>\n",
       "      <th>Cost_of_the_Product</th>\n",
       "      <th>Prior_purchases</th>\n",
       "      <th>Discount_offered</th>\n",
       "      <th>Weight_in_gms</th>\n",
       "      <th>is_late</th>\n",
       "    </tr>\n",
       "  </thead>\n",
       "  <tbody>\n",
       "    <tr>\n",
       "      <th>count</th>\n",
       "      <td>10999.000000</td>\n",
       "      <td>10999.000000</td>\n",
       "      <td>10999.000000</td>\n",
       "      <td>10999.000000</td>\n",
       "      <td>10999.000000</td>\n",
       "      <td>10999.000000</td>\n",
       "      <td>10999.000000</td>\n",
       "    </tr>\n",
       "    <tr>\n",
       "      <th>mean</th>\n",
       "      <td>4.054459</td>\n",
       "      <td>2.990545</td>\n",
       "      <td>210.196836</td>\n",
       "      <td>3.567597</td>\n",
       "      <td>13.373216</td>\n",
       "      <td>3634.016729</td>\n",
       "      <td>0.596691</td>\n",
       "    </tr>\n",
       "    <tr>\n",
       "      <th>std</th>\n",
       "      <td>1.141490</td>\n",
       "      <td>1.413603</td>\n",
       "      <td>48.063272</td>\n",
       "      <td>1.522860</td>\n",
       "      <td>16.205527</td>\n",
       "      <td>1635.377251</td>\n",
       "      <td>0.490584</td>\n",
       "    </tr>\n",
       "    <tr>\n",
       "      <th>min</th>\n",
       "      <td>2.000000</td>\n",
       "      <td>1.000000</td>\n",
       "      <td>96.000000</td>\n",
       "      <td>2.000000</td>\n",
       "      <td>1.000000</td>\n",
       "      <td>1001.000000</td>\n",
       "      <td>0.000000</td>\n",
       "    </tr>\n",
       "    <tr>\n",
       "      <th>25%</th>\n",
       "      <td>3.000000</td>\n",
       "      <td>2.000000</td>\n",
       "      <td>169.000000</td>\n",
       "      <td>3.000000</td>\n",
       "      <td>4.000000</td>\n",
       "      <td>1839.500000</td>\n",
       "      <td>0.000000</td>\n",
       "    </tr>\n",
       "    <tr>\n",
       "      <th>50%</th>\n",
       "      <td>4.000000</td>\n",
       "      <td>3.000000</td>\n",
       "      <td>214.000000</td>\n",
       "      <td>3.000000</td>\n",
       "      <td>7.000000</td>\n",
       "      <td>4149.000000</td>\n",
       "      <td>1.000000</td>\n",
       "    </tr>\n",
       "    <tr>\n",
       "      <th>75%</th>\n",
       "      <td>5.000000</td>\n",
       "      <td>4.000000</td>\n",
       "      <td>251.000000</td>\n",
       "      <td>4.000000</td>\n",
       "      <td>10.000000</td>\n",
       "      <td>5050.000000</td>\n",
       "      <td>1.000000</td>\n",
       "    </tr>\n",
       "    <tr>\n",
       "      <th>max</th>\n",
       "      <td>7.000000</td>\n",
       "      <td>5.000000</td>\n",
       "      <td>310.000000</td>\n",
       "      <td>10.000000</td>\n",
       "      <td>65.000000</td>\n",
       "      <td>7846.000000</td>\n",
       "      <td>1.000000</td>\n",
       "    </tr>\n",
       "  </tbody>\n",
       "</table>\n",
       "</div>"
      ],
      "text/plain": [
       "       Customer_care_calls  Customer_rating  Cost_of_the_Product  \\\n",
       "count         10999.000000     10999.000000         10999.000000   \n",
       "mean              4.054459         2.990545           210.196836   \n",
       "std               1.141490         1.413603            48.063272   \n",
       "min               2.000000         1.000000            96.000000   \n",
       "25%               3.000000         2.000000           169.000000   \n",
       "50%               4.000000         3.000000           214.000000   \n",
       "75%               5.000000         4.000000           251.000000   \n",
       "max               7.000000         5.000000           310.000000   \n",
       "\n",
       "       Prior_purchases  Discount_offered  Weight_in_gms       is_late  \n",
       "count     10999.000000      10999.000000   10999.000000  10999.000000  \n",
       "mean          3.567597         13.373216    3634.016729      0.596691  \n",
       "std           1.522860         16.205527    1635.377251      0.490584  \n",
       "min           2.000000          1.000000    1001.000000      0.000000  \n",
       "25%           3.000000          4.000000    1839.500000      0.000000  \n",
       "50%           3.000000          7.000000    4149.000000      1.000000  \n",
       "75%           4.000000         10.000000    5050.000000      1.000000  \n",
       "max          10.000000         65.000000    7846.000000      1.000000  "
      ]
     },
     "execution_count": 111,
     "metadata": {},
     "output_type": "execute_result"
    }
   ],
   "source": [
    "df2.describe()"
   ]
  },
  {
   "cell_type": "code",
   "execution_count": 121,
   "id": "991bd62a",
   "metadata": {},
   "outputs": [
    {
     "data": {
      "image/png": "[encoded data removed]",
      "text/plain": [
       "<Figure size 720x360 with 1 Axes>"
      ]
     },
     "metadata": {},
     "output_type": "display_data"
    }
   ],
   "source": [
    "fig, ax = plt.subplots(figsize=(10,5))\n",
    "\n",
    "sns.kdeplot(df_2[df_2['is_late'] == 1]['Cost_of_the_Product'].dropna(), color='darkorange', label = 'is_late : 1', ax=ax)\n",
    "sns.kdeplot(df_2[df_2['is_late'] == 0]['Cost_of_the_Product'].dropna(), color='teal', label = 'is_late : 0', ax=ax)\n",
    "plt.legend()\n",
    "plt.title('Most of the Product Under 210 is Late',color='firebrick',fontsize=16,fontweight='semibold')\n",
    "plt.xlabel('Cost of the Product', fontsize=14)\n",
    "plt.ylabel('Density', fontsize=14)\n",
    "plt.tick_params(axis='both', which='major', labelsize=14)"
   ]
  },
  {
   "cell_type": "markdown",
   "id": "bee621fa",
   "metadata": {},
   "source": [
    "### Rekomendasi"
   ]
  },
  {
   "cell_type": "code",
   "execution_count": null,
   "id": "e45502c7",
   "metadata": {},
   "outputs": [],
   "source": []
  },
  {
   "cell_type": "code",
   "execution_count": null,
   "id": "06860d62",
   "metadata": {},
   "outputs": [],
   "source": []
  },
  {
   "cell_type": "code",
   "execution_count": null,
   "id": "9a80b774",
   "metadata": {},
   "outputs": [],
   "source": []
  },
  {
   "cell_type": "code",
   "execution_count": null,
   "id": "e868f95c",
   "metadata": {},
   "outputs": [],
   "source": []
  },
  {
   "cell_type": "code",
   "execution_count": null,
   "id": "d92b8013",
   "metadata": {},
   "outputs": [],
   "source": []
  },
  {
   "cell_type": "code",
   "execution_count": null,
   "id": "dc9280fe",
   "metadata": {},
   "outputs": [],
   "source": []
  },
  {
   "cell_type": "code",
   "execution_count": null,
   "id": "641aadb7",
   "metadata": {},
   "outputs": [],
   "source": []
  }
 ],
 "metadata": {
  "kernelspec": {
   "display_name": "Python 3 (ipykernel)",
   "language": "python",
   "name": "python3"
  },
  "language_info": {
   "codemirror_mode": {
    "name": "ipython",
    "version": 3
   },
   "file_extension": ".py",
   "mimetype": "text/x-python",
   "name": "python",
   "nbconvert_exporter": "python",
   "pygments_lexer": "ipython3",
   "version": "3.9.12"
  }
 },
 "nbformat": 4,
 "nbformat_minor": 5
}
